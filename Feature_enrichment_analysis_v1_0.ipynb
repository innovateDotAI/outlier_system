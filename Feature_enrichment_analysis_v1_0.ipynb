{
  "cells": [
    {
      "cell_type": "markdown",
      "metadata": {
        "id": "view-in-github",
        "colab_type": "text"
      },
      "source": [
        "<a href=\"https://colab.research.google.com/github/innovateDotAI/outlier_system/blob/main/Feature_enrichment_analysis_v1_0.ipynb\" target=\"_parent\"><img src=\"https://colab.research.google.com/assets/colab-badge.svg\" alt=\"Open In Colab\"/></a>"
      ]
    },
    {
      "cell_type": "markdown",
      "id": "ff63036a",
      "metadata": {
        "id": "ff63036a"
      },
      "source": [
        "For details on SVM algorithm please reffer to [Support Vector Machines for Machine Learning](https://machinelearningmastery.com/support-vector-machines-for-machine-learning/)\n",
        "\n",
        "Additoonal refrencees used:\n",
        "[One-Class Classification Algorithms for Imbalanced Datasets](https://machinelearningmastery.com/one-class-classification-algorithms/)"
      ]
    },
    {
      "cell_type": "markdown",
      "id": "e10e8d91",
      "metadata": {
        "id": "e10e8d91"
      },
      "source": [
        "# 1. Load the Library"
      ]
    },
    {
      "cell_type": "code",
      "execution_count": null,
      "id": "2acc4890",
      "metadata": {
        "id": "2acc4890"
      },
      "outputs": [],
      "source": [
        "import matplotlib.pyplot as plt\n",
        "import numpy as np\n",
        "import pandas as pd\n",
        "import seaborn as sns\n",
        "np.set_printoptions(precision=3, suppress=True)\n",
        "# Set of libraries\n",
        "# Test save for new version"
      ]
    },
    {
      "cell_type": "markdown",
      "id": "fac342e3",
      "metadata": {
        "id": "fac342e3"
      },
      "source": [
        "# 2. Load the data and One Hot Encoding"
      ]
    },
    {
      "cell_type": "code",
      "execution_count": null,
      "id": "d4ea9083",
      "metadata": {
        "id": "d4ea9083"
      },
      "outputs": [],
      "source": [
        "def rawDataload_TWF():\n",
        "# Load data from UCI and retrun TS as pandas and list of indexes where failure happends in mfList\n",
        "  #Data loading and keeping one type of failure\n",
        "  #First download and import the dataset using pandas:\n",
        "  import pandas as pd\n",
        "  url = 'https://archive.ics.uci.edu/ml/machine-learning-databases/00601/ai4i2020.csv'\n",
        "  #column_names = ['MPG', 'Cylinders', 'Displacement', 'Horsepower', 'Weight',\n",
        "                  #'Acceleration', 'Model Year', 'Origin']\n",
        "  col_name = ['UID','PID','Type','airTemp','processTemp','rotationalSpeed','torque','toolwear','machineFailure','TWF','HDF','PWF','OSF','RNF']\n",
        "  raw_dataset = pd.read_csv(url, names=col_name,\n",
        "                            na_values='?', comment='\\t',\n",
        "                            sep=',', skipinitialspace=True,header=0)\n",
        "  #Drop those rows which will not be part of feature vector:\n",
        "  rawData = raw_dataset.copy()\n",
        "  #rawData.drop(['UID','PID','TWF','HDF','PWF','OSF','RNF'], axis = 1, inplace = True)\n",
        "  rawData.drop(['UID','PID','machineFailure','HDF','OSF','PWF','RNF'], axis = 1, inplace = True)\n",
        "  rawData.rename(columns={'TWF': 'machineFailure'},inplace=True, errors='raise')\n",
        "  # mark inliers 1, outliers -1\n",
        "  #rawSVMdata = rawData.copy()\n",
        "  # rawData['machineFailure' == '1'] = -1\n",
        "  # rawData['machineFailure' == '0'] = 1\n",
        "  # rawData\n",
        "  rawData.loc[rawData[\"machineFailure\"] == 1, \"machineFailure\"] = -1\n",
        "  rawData.loc[rawData[\"machineFailure\"] == 0, \"machineFailure\"] = 1\n",
        "  # One Hot Encoding of category datatype\n",
        "  #raw_dataset\n",
        "  # # generate binary values using get_dummies\n",
        "  raw_dataset_oneHot = pd.get_dummies(rawData, columns=[\"Type\"], prefix=[\"Type_is\"] )\n",
        "  rawTS = raw_dataset_oneHot.copy()\n",
        "  mfList = rawTS.index[rawTS['machineFailure'] == -1].tolist()\n",
        "  return rawTS,mfList"
      ]
    },
    {
      "cell_type": "code",
      "source": [
        "def rawDataload_HDF():\n",
        "# Load data from UCI and retrun TS as pandas and list of indexes where failure happends in mfList\n",
        "  #Data loading and keeping one type of failure\n",
        "  #First download and import the dataset using pandas:\n",
        "  import pandas as pd\n",
        "  url = 'https://archive.ics.uci.edu/ml/machine-learning-databases/00601/ai4i2020.csv'\n",
        "  #column_names = ['MPG', 'Cylinders', 'Displacement', 'Horsepower', 'Weight',\n",
        "                  #'Acceleration', 'Model Year', 'Origin']\n",
        "  col_name = ['UID','PID','Type','airTemp','processTemp','rotationalSpeed','torque','toolwear','machineFailure','TWF','HDF','PWF','OSF','RNF']\n",
        "  raw_dataset = pd.read_csv(url, names=col_name,\n",
        "                            na_values='?', comment='\\t',\n",
        "                            sep=',', skipinitialspace=True,header=0)\n",
        "  #Drop those rows which will not be part of feature vector:\n",
        "  rawData = raw_dataset.copy()\n",
        "  #rawData.drop(['UID','PID','TWF','HDF','PWF','OSF','RNF'], axis = 1, inplace = True)\n",
        "  rawData.drop(['UID','PID','machineFailure','TWF','OSF','PWF','RNF','rotationalSpeed','torque','toolwear','Type'], axis = 1, inplace = True)\n",
        "  rawData.rename(columns={'HDF': 'machineFailure'},inplace=True, errors='raise')\n",
        "  # mark inliers 1, outliers -1\n",
        "  #rawSVMdata = rawData.copy()\n",
        "  # rawData['machineFailure' == '1'] = -1\n",
        "  # rawData['machineFailure' == '0'] = 1\n",
        "  # rawData\n",
        "  rawData.loc[rawData[\"machineFailure\"] == 1, \"machineFailure\"] = -1\n",
        "  rawData.loc[rawData[\"machineFailure\"] == 0, \"machineFailure\"] = 1\n",
        "  # One Hot Encoding of category datatype\n",
        "  #raw_dataset\n",
        "  # # # generate binary values using get_dummies\n",
        "  # raw_dataset_oneHot = pd.get_dummies(rawData, columns=[\"Type\"], prefix=[\"Type_is\"] )\n",
        "  rawTS = rawData.copy()\n",
        "  mfList = rawTS.index[rawTS['machineFailure'] == -1].tolist()\n",
        "  return rawTS,mfList"
      ],
      "metadata": {
        "id": "KfcOYdTiW2Dz"
      },
      "id": "KfcOYdTiW2Dz",
      "execution_count": null,
      "outputs": []
    },
    {
      "cell_type": "markdown",
      "id": "9e64ae4a",
      "metadata": {
        "id": "9e64ae4a"
      },
      "source": [
        "No missing value found"
      ]
    },
    {
      "cell_type": "markdown",
      "source": [
        "# Check Maximum possble windows size"
      ],
      "metadata": {
        "id": "Rl0kKo92cUIB"
      },
      "id": "Rl0kKo92cUIB"
    },
    {
      "cell_type": "code",
      "source": [
        "def maxPossibleWin(mfList):\n",
        "  key =1\n",
        "  for w in range(2,100,2):\n",
        "    b1 = w\n",
        "    len(mfList)\n",
        "    for i in range(len(mfList)):\n",
        "      i=i+1\n",
        "      try:\n",
        "        diff = mfList[i] - mfList[i-1]\n",
        "        if diff < b1:\n",
        "          key = -1\n",
        "          #print(\"Index values: \", mfList[i] , mfList[i-1])\n",
        "          #print(False)\n",
        "          break\n",
        "      except:\n",
        "        pass\n",
        "    if key == -1:\n",
        "      #print(\"max possible window size:\",w-2)\n",
        "      return w-2"
      ],
      "metadata": {
        "id": "N3Q2Er_TPt3f"
      },
      "id": "N3Q2Er_TPt3f",
      "execution_count": null,
      "outputs": []
    },
    {
      "cell_type": "markdown",
      "source": [
        "# Train and Test data creation Function Module"
      ],
      "metadata": {
        "id": "ZNQGmVcATbG9"
      },
      "id": "ZNQGmVcATbG9"
    },
    {
      "cell_type": "code",
      "source": [
        "def TrainTestData(b1,rawTS,mfList):\n",
        "  raw_np = rawTS.values\n",
        "  #print(\"Input shape of rawTS:\",raw_np.shape)\n",
        "  #print(\"Input mfList values:\",mfList)\n",
        "  X_test = np.empty((0,raw_np.shape[1]), np.float32)\n",
        "  # Training dataset creation based on windows size\n",
        "  # initialize outlier data:\n",
        "  for i in mfList:\n",
        "    X_test = np.append(X_test, raw_np[i-b1+1:i+1], axis=0)\n",
        "  #print(X_test.shape)\n",
        "  X_train = np.copy(raw_np)\n",
        "  indexList = []\n",
        "  for i in mfList:\n",
        "    #print(\"Index value i:\",i)\n",
        "    tmp = [i for i in range(i-b1+1,i+1)]\n",
        "    X= [indexList.append(j) for j in tmp]\n",
        "  \n",
        "  #print(\"Index List:\",indexList)\n",
        "  X_train = np.delete(X_train, indexList, axis=0)\n",
        "  #print(\"Shape of X_train after deletion:\",X_train.shape)\n",
        "  #Split features from labels\n",
        "  #The pop() method removes the specified column from the DataFrame. The pop() method returns the removed columns as a Pandas Series object.\n",
        "  Y_train = np.copy(X_train)\n",
        "  Y_test = np.copy(X_test)\n",
        "  XPopIndex = [5] # Lable value which needs to remove from matrix to generate feature \n",
        "  YPopIndex = [0,1,2,3,4,6,7,8] # All featrues index value which needs to be removed.\n",
        "  X_train = np.delete(X_train, XPopIndex, axis=1)\n",
        "  X_test = np.delete(X_test, XPopIndex, axis=1)\n",
        "  Y_train = np.delete(Y_train, YPopIndex, axis=1) # Removing label from Traning_set data\n",
        "  Y_test = np.delete(Y_test, YPopIndex, axis=1)\n",
        "  return X_train ,Y_train, X_test,Y_test"
      ],
      "metadata": {
        "id": "YgAK315VpxUJ"
      },
      "id": "YgAK315VpxUJ",
      "execution_count": null,
      "outputs": []
    },
    {
      "cell_type": "code",
      "source": [
        "def TrainTestData_HDF(b1,rawTS,mfList):\n",
        "  raw_np = rawTS.values\n",
        "  #print(\"Input shape of rawTS:\",raw_np.shape)\n",
        "  #print(\"Input mfList values:\",mfList)\n",
        "  X_test = np.empty((0,raw_np.shape[1]), np.float32)\n",
        "  # Training dataset creation based on windows size\n",
        "  # initialize outlier data:\n",
        "  for i in mfList:\n",
        "    X_test = np.append(X_test, raw_np[i-b1+1:i+1], axis=0)\n",
        "  #print(X_test.shape)\n",
        "  X_train = np.copy(raw_np)\n",
        "  indexList = []\n",
        "  for i in mfList:\n",
        "    #print(\"Index value i:\",i)\n",
        "    tmp = [i for i in range(i-b1+1,i+1)]\n",
        "    X= [indexList.append(j) for j in tmp]\n",
        "  \n",
        "  #print(\"Index List:\",indexList)\n",
        "  X_train = np.delete(X_train, indexList, axis=0)\n",
        "  #print(\"Shape of X_train after deletion:\",X_train.shape)\n",
        "  #Split features from labels\n",
        "  #The pop() method removes the specified column from the DataFrame. The pop() method returns the removed columns as a Pandas Series object.\n",
        "  Y_train = np.copy(X_train)\n",
        "  Y_test = np.copy(X_test)\n",
        "  XPopIndex = [0] # Lable value which needs to remove from matrix to generate feature \n",
        "  YPopIndex = [1] # All featrues index value which needs to be removed.\n",
        "  X_train = np.delete(X_train, XPopIndex, axis=1)\n",
        "  X_test = np.delete(X_test, XPopIndex, axis=1)\n",
        "  Y_train = np.delete(Y_train, YPopIndex, axis=1) # Removing label from Traning_set data\n",
        "  Y_test = np.delete(Y_test, YPopIndex, axis=1)\n",
        "  return X_train ,Y_train, X_test,Y_test"
      ],
      "metadata": {
        "id": "oFPqaH74iDPh"
      },
      "id": "oFPqaH74iDPh",
      "execution_count": null,
      "outputs": []
    },
    {
      "cell_type": "markdown",
      "source": [
        "# Feature Enrichment Function Module"
      ],
      "metadata": {
        "id": "VhPL6fn6a1i2"
      },
      "id": "VhPL6fn6a1i2"
    },
    {
      "cell_type": "code",
      "source": [
        "### Function module development for feature entrichment\n",
        "import numpy as np\n",
        "def TS_window(b,n,TS_C):\n",
        "  # Function Module to convet TS into Sliding wondows based TS\n",
        "  # b = window size\n",
        "  #n = number of features in given TS data\n",
        "  # TS_C = Normalized TS data\n",
        "\n",
        "  i = 0\n",
        "  TS_G = np.empty((0,b,n), np.float32)  \n",
        "  for w in range(0,len(TS_C),int(b/2)):\n",
        "    #count+=1\n",
        "    #print(\"windows\")  \n",
        "    win = np.empty((0,n), np.float32)\n",
        "    for i in range(b):\n",
        "      try:\n",
        "      #print(\"feature vector\",w+i,\"Values are:\",X_train_scaled[w+i])\n",
        "        win = np.append(win, np.array([TS_C[w+i]]), axis=0)\n",
        "      except:\n",
        "        continue\n",
        "    if win.shape[0] == b:\n",
        "      TS_G = np.append(TS_G, np.array([win]), axis=0)\n",
        "  return TS_G\n",
        "def nor_don(TS_G):\n",
        "  #Stage 2: Convert TS_G into GNOR\n",
        "  GNOR = np.empty((0,n), np.float32)\n",
        "  for ti in TS_G:\n",
        "    #print(ti.shape)\n",
        "    nor = np.sqrt(np.sum(np.square(ti), axis=0))\n",
        "    GNOR = np.append(GNOR, np.array([nor]), axis=0)\n",
        "  #print(\"GNOR Shape:\",GNOR.shape)\n",
        "  ## Stage2: Convert TS_G into GDON\n",
        "  GDON = np.empty((0,n), np.float32)\n",
        "  for di in range(len(GNOR)):\n",
        "    if int(GDON.shape[0]) != 0:\n",
        "      don = GNOR[di]-GNOR[di-1]\n",
        "      GDON = np.append(GDON, np.array([don]), axis=0)\n",
        "    else:\n",
        "      #GDON = np.array([[0,0,0,0,0,0,0,0]])\n",
        "      GDON = np.array([np.zeros(n)])\n",
        "  return GNOR , GDON\n",
        "# Function Module to convert NOR and DON metrices to e-statistics of 8 rows\n",
        "def estates(n,TS_2):\n",
        "  b =8 # no. of rows for each e-states\n",
        "  ts_estate = np.empty((0,b,n), np.float32)\n",
        "  for h in TS_2:\n",
        "    win_h = np.empty((0,n), np.float32)\n",
        "    #mean = np.mean(h,axis = 0)\n",
        "    win_h = np.append(win_h, np.array([np.mean(h,axis = 0)]), axis=0)\n",
        "    win_h = np.append(win_h, np.array([np.amin(h,axis = 0)]), axis=0)\n",
        "    win_h = np.append(win_h, np.array([np.amax(h,axis = 0)]), axis=0)\n",
        "    win_h = np.append(win_h, np.array([np.quantile(h,0.25,axis = 0)]), axis=0)\n",
        "    win_h = np.append(win_h, np.array([np.quantile(h,0.50,axis = 0)]), axis=0)\n",
        "    win_h = np.append(win_h, np.array([np.quantile(h,0.75,axis = 0)]), axis=0)\n",
        "    win_h = np.append(win_h, np.array([np.ptp(h,axis = 0)]), axis=0)\n",
        "    win_h = np.append(win_h, np.array([np.std(h,axis = 0)]), axis=0)\n",
        "    ts_estate = np.append(ts_estate, np.array([win_h]), axis=0)\n",
        "  return ts_estate\n",
        "def merge_don_nor(b,HNOR,HDON):\n",
        "  # Mearger of NOR and DON e-statistics to one matrix\n",
        "  #b =16 # no. of rows for mearged e-states (NOR+DON estates)\n",
        "  n = HNOR.shape[2] # Number of features\n",
        "  TS_H = np.empty((0,b,n), np.float32)\n",
        "  for m in range(len(HNOR)):\n",
        "    h_tmp = np.empty((0,n), np.float32)\n",
        "    for hi in HNOR[m]:\n",
        "      h_tmp = np.append(h_tmp, np.array([hi]), axis=0)\n",
        "    for hd in HDON[m]:\n",
        "      h_tmp = np.append(h_tmp, np.array([hd]), axis=0)\n",
        "    #h_tmp = np.append(h_tmp, np.array([HDON[m]]), axis=0)\n",
        "    TS_H = np.append(TS_H, np.array([h_tmp]), axis=0)\n",
        "  return TS_H\n",
        "\n",
        "def main_fm(b1,b2,b3,n,TS_C):\n",
        "  # b1 is 1st stage window size\n",
        "  #b2 is 3rd stage window size\n",
        "  #b3 is no. of estate rows for NOR and DON\n",
        "  #n = number of features in input TimeSeries\n",
        "  #TS_C is normalized raw time series \n",
        "  # Stage-1\n",
        "  TS_G = TS_window(b1,n,TS_C)\n",
        "  #print(\"stage1 sucness\")\n",
        "  # Stage-2\n",
        "  GNOR , GDON = nor_don(TS_G)\n",
        "  #print(\"stage2 sucness\")\n",
        "  # Sliding window formation for 3rd Stage for GNOR\n",
        "  b2 = 4 # Windows size\n",
        "  n = GNOR.shape[1] # Number of features\n",
        "  HGNOR = TS_window(b2,n,GNOR)\n",
        "  # Sliding window formation for 3rd Stage for GDON\n",
        "  n = GDON.shape[1] # Number of features\n",
        "  HGDON = TS_window(b2,n,GDON)\n",
        "  # Stage-3: Convert HNOR to e-state matrix\n",
        "  n = HGNOR.shape[2]\n",
        "  HNOR = estates(n,HGNOR)\n",
        "  # Convert HDON to e-state matrix\n",
        "  n = HGDON.shape[2]\n",
        "  HDON = estates(n,HGDON)\n",
        "  #print(\"stage3 sucness\")\n",
        "  TS_H = merge_don_nor(b3,HNOR,HDON)\n",
        "  return TS_H\n"
      ],
      "metadata": {
        "id": "8gUUfMnWuqFA"
      },
      "id": "8gUUfMnWuqFA",
      "execution_count": null,
      "outputs": []
    },
    {
      "cell_type": "markdown",
      "source": [
        "# Model accuracy and Loss ploting function module"
      ],
      "metadata": {
        "id": "pJoikgM4T3Yy"
      },
      "id": "pJoikgM4T3Yy"
    },
    {
      "cell_type": "code",
      "source": [
        "def plt_model_accuracy(history):\n",
        "  # Plot the graphs\n",
        "  import matplotlib.pyplot as plt\n",
        "  # Increase size of plot in jupyter\n",
        "\n",
        "  plt.rcParams[\"figure.figsize\"] = (16,5.5)  \n",
        "  # list all data in history\n",
        "  print(history.history.keys())\n",
        "  # summarize history for accuracy\n",
        "  acc = list(history.history.keys())[1]\n",
        "  val_acc = list(history_2dcnnae.history.keys())[3]\n",
        "  loss = list(history_2dcnnae.history.keys())[0]\n",
        "  val_loss = list(history_2dcnnae.history.keys())[2]\n",
        "  plt.plot(history.history[acc])\n",
        "  plt.plot(history.history[val_acc])\n",
        "  plt.title('recreation accuracy')\n",
        "  plt.ylabel('accuracy')\n",
        "  plt.xlabel('epoch')\n",
        "  plt.legend(['train', 'test'], loc='upper left')\n",
        "  plt.show()\n",
        "  # summarize history for loss\n",
        "  plt.plot(history.history[loss])\n",
        "  plt.plot(history.history[val_loss])\n",
        "  plt.title('recreation loss')\n",
        "  plt.ylabel('loss')\n",
        "  plt.xlabel('epoch')\n",
        "  plt.legend(['train', 'test'], loc='upper left')\n",
        "  plt.show()"
      ],
      "metadata": {
        "id": "YsH5Mo2xIaew"
      },
      "id": "YsH5Mo2xIaew",
      "execution_count": null,
      "outputs": []
    },
    {
      "cell_type": "code",
      "source": [
        ""
      ],
      "metadata": {
        "id": "DSSg77sPKS7c"
      },
      "id": "DSSg77sPKS7c",
      "execution_count": null,
      "outputs": []
    },
    {
      "cell_type": "markdown",
      "source": [
        "# Data normalization(Z-score) FM"
      ],
      "metadata": {
        "id": "1UTqptZBKUN2"
      },
      "id": "1UTqptZBKUN2"
    },
    {
      "cell_type": "code",
      "source": [
        "def normalizeData(x_in,x_out,b3,n):\n",
        "  # x_train and x_test is dataset after enrichment\n",
        "  # Normalize after enrichment X_Inliear input data (  Z-score)\n",
        "  XTrain = np.empty((0,b3,n), np.float32)\n",
        "  for i in x_in:\n",
        "    #print(\"Value of i:\",i)\n",
        "    mean = np.mean(i,axis = 0)\n",
        "    std = np.std(i,axis = 0)\n",
        "    for s in range(len(std)):\n",
        "      if std[s] <=0:\n",
        "        std[s] = 0.001\n",
        "    #print(\"Value of std:\",(std))\n",
        "    norm = (i-mean)/std\n",
        "    #print(\"Value of min,max,norm:\",min,max,norm)\n",
        "    #print('Min',min,'MAx',max,'norm',norm)\n",
        "    XTrain = np.append(XTrain, np.array([norm]), axis=0)\n",
        "  #Normalize X_outlier after enrichment( Min Max normalization)\n",
        "  XTest = np.empty((0,b3,n), np.float32)\n",
        "  for i in x_out:\n",
        "    norm1 = (i-mean)/std\n",
        "    XTest = np.append(XTest, np.array([norm1]), axis=0)\n",
        "  return XTrain,XTest\n",
        "  "
      ],
      "metadata": {
        "id": "7Eig9pepnISW"
      },
      "id": "7Eig9pepnISW",
      "execution_count": null,
      "outputs": []
    },
    {
      "cell_type": "code",
      "source": [
        "def GlobalnormalizeData(x_in,x_out,b3,n):\n",
        "  # x_train and x_test is dataset after enrichment\n",
        "  # Normalize after enrichment X_Inliear input data (Z-score)\n",
        "  x_in_G = x_in.reshape(b3*len(x_in),n)\n",
        "  mean = np.mean(x_in_G,axis=0)\n",
        "  std = np.std(x_in_G,axis=0)\n",
        "  for s in range(len(std)):\n",
        "    if std[s] <=0:\n",
        "      std[s] = 0.001\n",
        "  XTrain = np.empty((0,b3,n), np.float32)\n",
        "  for i in x_in:\n",
        "    norm = (i-mean)/std\n",
        "    XTrain = np.append(XTrain, np.array([norm]), axis=0)\n",
        "  #Normalize X_outlier after enrichment( Min Max normalization)\n",
        "  XTest = np.empty((0,b3,n), np.float32)\n",
        "  for i in x_out:\n",
        "    norm1 = (i-mean)/std\n",
        "    XTest = np.append(XTest, np.array([norm1]), axis=0)\n",
        "  return XTrain,XTest"
      ],
      "metadata": {
        "id": "p6V8jGP3XK1g"
      },
      "id": "p6V8jGP3XK1g",
      "execution_count": null,
      "outputs": []
    },
    {
      "cell_type": "markdown",
      "source": [
        "# 2DCNN_AE Model"
      ],
      "metadata": {
        "id": "7RwZ6PHMnBfB"
      },
      "id": "7RwZ6PHMnBfB"
    },
    {
      "cell_type": "markdown",
      "source": [
        "## Model Generation FM"
      ],
      "metadata": {
        "id": "kRcTD01HUTXL"
      },
      "id": "kRcTD01HUTXL"
    },
    {
      "cell_type": "code",
      "source": [
        "def m4_2dcnnae_single_conv(b3,n,train,e):\n",
        "  # single layerd CNN AE\n",
        "  import tensorflow as tf\n",
        "  from tensorflow import keras\n",
        "  from keras import layers\n",
        "  from tensorflow.keras import regularizers\n",
        "  input = keras.Input(shape=(b3,n,1),name='Conv_deconv_singleLayer')\n",
        "  encoder = layers.Conv2D(b3/2,kernel_size=(2,1),kernel_regularizer=regularizers.L1(0.01))(input)\n",
        "  decoder = layers.Conv2DTranspose(1,kernel_size=(2,1))(encoder)\n",
        "  model = keras.Model(input,decoder)\n",
        "  model.compile(optimizer='adam',loss='mean_squared_error',metrics=['mean_squared_error'])\n",
        "  history = model.fit(train,train,\n",
        "                    epochs = e,\n",
        "                    validation_split = 0.2,\n",
        "                    shuffle=True\n",
        "\n",
        "                    )\n",
        "    \n",
        "  return model,keras.utils.plot_model(model, \"m4_2dcnnae_single_conv.png\", show_shapes=True),history"
      ],
      "metadata": {
        "id": "hLoO9Yxxw7yn"
      },
      "id": "hLoO9Yxxw7yn",
      "execution_count": null,
      "outputs": []
    },
    {
      "cell_type": "code",
      "source": [
        "def m1_cnn_ae_2d(b3,n):\n",
        "  # Generate AE and retrun the model\n",
        "  # 2DCNN_AE model construction\n",
        "  import tensorflow as tf\n",
        "  from tensorflow import keras\n",
        "  from keras import layers\n",
        "  encoder_input = keras.Input(shape=(b3,n,1), name=\"img\")\n",
        "  x = layers.Conv2D(16,kernel_size=(3,2),activation='relu')(encoder_input)\n",
        "  x = layers.Conv2D(32,kernel_size=(3,2),activation='relu')(x)\n",
        "  encoder_output = layers.MaxPooling2D(pool_size=(2,2))(x)\n",
        "  # x = layers.Flatten()(x)\n",
        "  # x = layers.Dense(256,activation='relu')(x)\n",
        "  # x = layers.Dense(128,activation='relu')(x)\n",
        "  #encoder_output = layers.Dense(64,activation='relu')(x)\n",
        "  #encoder_output = layers.Dense(32,activation='softmax')(x)\n",
        "  #y = layers.Dense(64,activation='relu')(encoder_output)\n",
        "  # y = layers.Dense(128,activation='relu')(encoder_output)\n",
        "  # y = layers.Dense(256,activation='relu')(y)\n",
        "  # y = layers.Dense(576,activation='relu')(y)\n",
        "  # y = layers.Reshape((6,3,32))(y)\n",
        "  y = layers.Conv2DTranspose(32, kernel_size = (7,4), activation=\"relu\")(encoder_output)\n",
        "  y = layers.Conv2DTranspose(16, kernel_size = (3,2), activation=\"relu\")(y)\n",
        "  y = layers.Conv2DTranspose(1, kernel_size = (3,2), activation=\"relu\")(y)\n",
        "  decoder_output = layers.Reshape((b3,n))(y)\n",
        "  cnn_ae_model=keras.Model(encoder_input,decoder_output)\n",
        "  #cnn_ae_model.summary()\n",
        "  #keras.utils.plot_model(cnn_ae_model, \"cnn_ae_model.png\", show_shapes=True)\n",
        "  return cnn_ae_model ,keras.utils.plot_model(cnn_ae_model, \"m1_cnn_ae_model.png\", show_shapes=True)"
      ],
      "metadata": {
        "id": "pL-j1ib7QZMH"
      },
      "id": "pL-j1ib7QZMH",
      "execution_count": null,
      "outputs": []
    },
    {
      "cell_type": "code",
      "source": [
        "def m2_cnn_ae_2d(b3,n):\n",
        "  # Generate AE and retrun the model\n",
        "  # 2DCNN_AE model construction\n",
        "  import tensorflow as tf\n",
        "  from tensorflow import keras\n",
        "  from keras import layers\n",
        "  encoder_input = keras.Input(shape=(b3,n,1), name=\"machineSnape\")\n",
        "  x = layers.Conv2D(16,kernel_size=(3,2),activation='relu')(encoder_input)\n",
        "  x = layers.Conv2D(32,kernel_size=(3,2),activation='relu')(x)\n",
        "  X = layers.MaxPooling2D(pool_size=(2,2))(x)\n",
        "  x = layers.Flatten()(x)\n",
        "  x = layers.Dense(256,activation='relu')(x)\n",
        "  x = layers.Dense(128,activation='relu')(x)\n",
        "  x = layers.Dense(64,activation='relu')(x)\n",
        "  encoder_output = layers.Dense(32,activation='softmax')(x)\n",
        "  y = layers.Dense(64,activation='relu')(encoder_output)\n",
        "  y = layers.Dense(128,activation='relu')(y)\n",
        "  y = layers.Dense(256,activation='relu')(y)\n",
        "  y = layers.Dense(2304,activation='relu')(y)\n",
        "  y = layers.Reshape((12,6,32))(y)\n",
        "  y = layers.Conv2DTranspose(16, kernel_size = (3,2), activation=\"relu\")(y)\n",
        "  y = layers.Conv2DTranspose(1, kernel_size = (3,2), activation=\"relu\")(y)\n",
        "  decoder_output = layers.Reshape((b3,n))(y)\n",
        "  cnn_ae_model=keras.Model(encoder_input,decoder_output)\n",
        "  sumarry = cnn_ae_model.summary()\n",
        "  #keras.utils.plot_model(cnn_ae_model, \"cnn_ae_model.png\", show_shapes=True)\n",
        "  return cnn_ae_model ,keras.utils.plot_model(cnn_ae_model, \"m2_cnn_ae_model.png\", show_shapes=True),summary"
      ],
      "metadata": {
        "id": "NruQZ1sytfT5"
      },
      "id": "NruQZ1sytfT5",
      "execution_count": null,
      "outputs": []
    },
    {
      "cell_type": "code",
      "source": [
        "def  m3_nn_model1(b3,n):\n",
        "  import keras\n",
        "  from keras import layers\n",
        "\n",
        "  # This is the size of our encoded representations\n",
        "  encoding_dim = 32  # 32 floats -> compression of factor 24.5, assuming the input is 784 floats\n",
        "  in_dim = b3*n\n",
        "\n",
        "  # This is our input image\n",
        "  input_img = keras.Input(shape=(in_dim,))\n",
        "  # \"encoded\" is the encoded representation of the input\n",
        "  encoded = layers.Dense(encoding_dim, activation='relu')(input_img)\n",
        "  # \"decoded\" is the lossy reconstruction of the input\n",
        "  decoded = layers.Dense(in_dim, activation='sigmoid')(encoded)\n",
        "\n",
        "  # This model maps an input to its reconstruction\n",
        "  nn_AE = keras.Model(input_img, decoded)\n",
        "  sumarry = nn_AE.summary()\n",
        "  #keras.utils.plot_model(cnn_ae_model, \"cnn_ae_model.png\", show_shapes=True)\n",
        "  return nn_AE ,keras.utils.plot_model(nn_AE, \"m2_m3_nn_model1.png\", show_shapes=True),summary"
      ],
      "metadata": {
        "id": "5uou9oKTLWkP"
      },
      "id": "5uou9oKTLWkP",
      "execution_count": null,
      "outputs": []
    },
    {
      "cell_type": "markdown",
      "source": [
        "## Model Compile and Training FM"
      ],
      "metadata": {
        "id": "GIoNNUU4ioxU"
      },
      "id": "GIoNNUU4ioxU"
    },
    {
      "cell_type": "code",
      "source": [
        "def cnn_modelTrain(train,e):\n",
        "# TS_HN is input data in numpy formate\n",
        "# e = no. of epochs\n",
        "# Validation happens automaticically using 20% of training data as validation data.\n",
        "#cnn_ae_model.compile(optimizer='adam',loss='binary_crossentropy')\n",
        "  cnn_ae_model.compile(optimizer='adam',loss=tf.keras.losses.MeanSquaredError(),metrics=['cosine_similarity'])\n",
        "  history_2dcnnae = cnn_ae_model.fit(train,train,\n",
        "                    epochs = e,\n",
        "                    shuffle=True,\n",
        "                    verbose=1,\n",
        "                    validation_split = 0.2,\n",
        "                    )\n",
        "  return history_2dcnnae"
      ],
      "metadata": {
        "id": "tyfNdVUSnSX2"
      },
      "id": "tyfNdVUSnSX2",
      "execution_count": null,
      "outputs": []
    },
    {
      "cell_type": "code",
      "source": [
        "def m3_nn_model1_Train(train,e):\n",
        "  # TS_HN is input data in numpy formate\n",
        "  # e = no. of epochs\n",
        "  # Validation happens automaticically using 20% of training data as validation data.\n",
        "  #cnn_ae_model.compile(optimizer='adam',loss='binary_crossentropy')\n",
        "  train = train.reshape(train.shape[0],train.shape[1]*train.shape[2])\n",
        "  m3_nn_model1.compile(optimizer='adam',loss=tf.keras.losses.MeanSquaredError(),metrics=['cosine_similarity'])\n",
        "  history_2dcnnae = m3_nn_model1.fit(train,train,\n",
        "                    epochs = e,\n",
        "                    shuffle=True,\n",
        "                    verbose=1,\n",
        "                    validation_split = 0.2,\n",
        "                    )\n",
        "  return history_2dcnnae"
      ],
      "metadata": {
        "id": "xgIziVjsTp7Z"
      },
      "id": "xgIziVjsTp7Z",
      "execution_count": null,
      "outputs": []
    },
    {
      "cell_type": "markdown",
      "source": [
        "# Output analysis"
      ],
      "metadata": {
        "id": "bgLSMYB8xv3-"
      },
      "id": "bgLSMYB8xv3-"
    },
    {
      "cell_type": "markdown",
      "source": [
        "## Image generation of snapshort"
      ],
      "metadata": {
        "id": "U2rW1ZO_x3Yv"
      },
      "id": "U2rW1ZO_x3Yv"
    },
    {
      "cell_type": "code",
      "source": [
        "def img_gen(train,img):\n",
        "  # Image generation for training set:\n",
        "  plt.figure(figsize=(10, 4))\n",
        "  for i in range(1, img + 1):\n",
        "      # Display original\n",
        "      ax = plt.subplot(2, img, i)\n",
        "      plt.imshow(train[i])\n",
        "      #plt.gray()\n",
        "      ax.get_xaxis().set_visible(False)\n",
        "      ax.get_yaxis().set_visible(False)\n",
        "  plt.show()"
      ],
      "metadata": {
        "id": "nIM5kbthx7Ti"
      },
      "id": "nIM5kbthx7Ti",
      "execution_count": null,
      "outputs": []
    },
    {
      "cell_type": "markdown",
      "source": [
        "# Prediction from Model for outlier"
      ],
      "metadata": {
        "id": "OakN-hUYivXv"
      },
      "id": "OakN-hUYivXv"
    },
    {
      "cell_type": "code",
      "source": [
        "def outlierPredict(inliear,outlier,model):\n",
        "  # predict the oulier\n",
        "  inlier_lst = []\n",
        "  y_pred = model.predict(inliear) \n",
        "  for i in range(len(inliear)):\n",
        "    y_true = inliear[i]\n",
        "    mse = tf.keras.losses.MeanSquaredError()\n",
        "    #print(mse(y_true, y_pred).numpy())\n",
        "    inlier_lst.append(mse(y_true, y_pred[i]).numpy())\n",
        "  #print(inlier_lst)\n",
        "  oulier_lst = []\n",
        "  y_pred = model.predict(outlier)\n",
        "  for i in range(len(outlier)):\n",
        "    y_true = outlier[i]\n",
        "    mse = tf.keras.losses.MeanSquaredError()\n",
        "    #print(mse(y_true, y_pred).numpy())\n",
        "    oulier_lst.append(mse(y_true, y_pred[i]).numpy())\n",
        "  #print(oulier_lst)\n",
        "  Ubound = max(inlier_lst)\n",
        "  Lbound = min(inlier_lst)\n",
        "  print(\"Inlear Upper bound:\",Ubound)\n",
        "  print(\"Inlear Lower bound:\",Lbound)\n",
        "  print(\"Outlier Upper bound:\",max(oulier_lst))\n",
        "  print(\"Outlier Lower bound:\",min(oulier_lst))\n",
        "  det_list = []\n",
        "  len(oulier_lst)\n",
        "  for i in range(len(oulier_lst)):\n",
        "    det_dict = {}\n",
        "    if (oulier_lst[i] > Lbound) & (oulier_lst[i] < Ubound):\n",
        "      det_dict['snp_no'] = i\n",
        "      det_dict['lable'] = 'Inliear'\n",
        "    else:\n",
        "      det_dict['snp_no'] = i\n",
        "      det_dict['lable'] = 'Outlier'\n",
        "    #print(det_list)\n",
        "    det_list.append(det_dict)\n",
        "  #print(det_list)\n",
        "  co =0\n",
        "  for i in det_list:\n",
        "    if i['lable'] == 'Outlier':\n",
        "      co+=1\n",
        "  print(\"No. of correctly identified outlier:\",co)\n",
        "  #return det_list"
      ],
      "metadata": {
        "id": "rezCwsXJHxX2"
      },
      "id": "rezCwsXJHxX2",
      "execution_count": null,
      "outputs": []
    },
    {
      "cell_type": "markdown",
      "source": [
        "# LSTM_AE Model ( Under Construction)"
      ],
      "metadata": {
        "id": "TWfX6RyQEyJS"
      },
      "id": "TWfX6RyQEyJS"
    },
    {
      "cell_type": "code",
      "source": [
        "import tensorflow as tf\n",
        "from tensorflow import keras\n",
        "from keras import Model, layers\n",
        "from keras.layers import Input,LSTM"
      ],
      "metadata": {
        "id": "OuGsUCHkE2It"
      },
      "id": "OuGsUCHkE2It",
      "execution_count": null,
      "outputs": []
    },
    {
      "cell_type": "code",
      "source": [
        "#LSTM Input\n",
        "#lstm_input = TS_H.reshape(TS_H.shape[0],TS_H.shape[1]*TS_H.shape[2])"
      ],
      "metadata": {
        "id": "a0AHKiBSFXdF"
      },
      "id": "a0AHKiBSFXdF",
      "execution_count": null,
      "outputs": []
    },
    {
      "cell_type": "code",
      "source": [
        "#lstm_input.shape"
      ],
      "metadata": {
        "id": "mpSChPk8NV3z"
      },
      "id": "mpSChPk8NV3z",
      "execution_count": null,
      "outputs": []
    },
    {
      "cell_type": "code",
      "source": [
        "\n",
        "# #timestep = lstm_input.shape[0]\n",
        "# timestep = 1\n",
        "# input_dim = lstm_input.shape[1]\n",
        "# latent_dim = 128\n",
        "# input_lstm = keras.Input((timestep,input_dim))\n",
        "# x = layers.LSTM(latent_dim,return_sequences=True)(input_lstm)\n",
        "# x = layers.LSTM(latent_dim)(x)\n",
        "# x = layers.Dense(64,activation='relu')(x)\n",
        "# encod_op = layers.Dense(32,activation='sigmoid')(x)\n",
        "# y1 = layers.Dense(64,activation='relu')(encod_op)\n",
        "# y1 = layers.Dense(128,activation='relu')(y1)\n",
        "# y1 = layers.RepeatVector(timestep)(y1)\n",
        "# y1 = layers.LSTM(input_dim, return_sequences=True)(y1)\n",
        "# decoded = layers.LSTM(input_dim, return_sequences=True)(y1)\n",
        "\n",
        "# lstm_encod_model = keras.Model(input_lstm,decoded)\n",
        "# lstm_encod_model.summary()\n",
        "# keras.utils.plot_model(lstm_encod_model, \"lstm_encod_model.png\", show_shapes=True)"
      ],
      "metadata": {
        "id": "hl0mueSiFeLn"
      },
      "id": "hl0mueSiFeLn",
      "execution_count": null,
      "outputs": []
    },
    {
      "cell_type": "code",
      "source": [
        "# decoded.shape"
      ],
      "metadata": {
        "id": "u2um8uyxUVXc"
      },
      "id": "u2um8uyxUVXc",
      "execution_count": null,
      "outputs": []
    },
    {
      "cell_type": "code",
      "source": [
        "# lstm_encod_model.compile(optimizer='adam',loss=tf.keras.losses.MeanSquaredError(),metrics=['accuracy'])\n",
        "# X_train = lstm_input.reshape(2389,1,128)\n",
        "# history_lstmae = lstm_encod_model.fit(X_train,X_train,\n",
        "#                 epochs = 10,\n",
        "#                validation_split = 0.2,\n",
        "#                 shuffle = True\n",
        "#                 )"
      ],
      "metadata": {
        "id": "eefzAM8MGYVR"
      },
      "id": "eefzAM8MGYVR",
      "execution_count": null,
      "outputs": []
    },
    {
      "cell_type": "code",
      "source": [
        "# # Plot accuracy graph\n",
        "# plt_model_accuracy(history_lstmae)"
      ],
      "metadata": {
        "id": "DcAKoKBQQxpn"
      },
      "id": "DcAKoKBQQxpn",
      "execution_count": null,
      "outputs": []
    },
    {
      "cell_type": "code",
      "source": [
        "# #input = Input(shape=(None,8))\n",
        "# input = keras.Input(shape=(None,8,))\n",
        "# lstm_op = layers.LSTM(1)(input)\n",
        "# output = layers.Dense(1,activation='sigmoid')(lstm_op)\n",
        "# model_lstm = Model(input,output)"
      ],
      "metadata": {
        "id": "nRjNrbPSFJS4"
      },
      "id": "nRjNrbPSFJS4",
      "execution_count": null,
      "outputs": []
    },
    {
      "cell_type": "code",
      "source": [
        "# model_lstm.summary()"
      ],
      "metadata": {
        "id": "Ar7bfuZWEwf7"
      },
      "id": "Ar7bfuZWEwf7",
      "execution_count": null,
      "outputs": []
    },
    {
      "cell_type": "code",
      "source": [
        "# keras.utils.plot_model(model_lstm, \"1my_first_model_with_shape_info.png\", show_shapes=True)"
      ],
      "metadata": {
        "id": "wKN3og3hhviV"
      },
      "id": "wKN3og3hhviV",
      "execution_count": null,
      "outputs": []
    },
    {
      "cell_type": "code",
      "source": [
        "# model_lstm.compile(optimizer='adam',loss = 'binary_crossentropy')"
      ],
      "metadata": {
        "id": "RIh0PELGI4kX"
      },
      "id": "RIh0PELGI4kX",
      "execution_count": null,
      "outputs": []
    },
    {
      "cell_type": "code",
      "source": [
        "# X_test_scaled.shape"
      ],
      "metadata": {
        "id": "b-ijC8t0gAYD"
      },
      "id": "b-ijC8t0gAYD",
      "execution_count": null,
      "outputs": []
    },
    {
      "cell_type": "code",
      "source": [
        "# X_train = X_train_scaled.reshape(7729,1,8)\n",
        "# Y_train = np.array(train_labels).reshape(7729,1)\n",
        "# X_test = X_test_scaled.reshape(1932,1,8)\n",
        "# Y_test = np.array(test_labels).reshape(1932,1)\n",
        "# model_lstm.fit(X_train,Y_train,\n",
        "#                 epochs = 50,\n",
        "#                validation_data = (X_test,Y_test),\n",
        "#                batch_size = 100,\n",
        "#                 shuffle = True\n",
        "#                 )"
      ],
      "metadata": {
        "id": "8IXHbvz0Peuu"
      },
      "id": "8IXHbvz0Peuu",
      "execution_count": null,
      "outputs": []
    },
    {
      "cell_type": "markdown",
      "source": [
        "# Main python body"
      ],
      "metadata": {
        "id": "mzbwWQ-9PmVD"
      },
      "id": "mzbwWQ-9PmVD"
    },
    {
      "cell_type": "markdown",
      "source": [
        "## Heat dissipation failure machine failure analysis"
      ],
      "metadata": {
        "id": "icVK-Ccs1mGe"
      },
      "id": "icVK-Ccs1mGe"
    },
    {
      "cell_type": "code",
      "source": [
        "b1 = 10 # 1st stage window size of enrichment\n",
        "b2 = 4  # 2nd Stage window size of enrichment\n",
        "b3 =16\n",
        "n = 1\n",
        "e = 50 # no. of epochs\n",
        "# Load Raw TS data\n",
        "rawTS, mfList = rawDataload_HDF()\n",
        "rawTS['diff'] = rawTS['airTemp'] - rawTS['processTemp']\n",
        "rawTS['diff'] = rawTS['diff'].abs()\n",
        "rawTS.drop(['airTemp','processTemp'], axis = 1, inplace = True)\n",
        "rawTS.head()\n",
        "# Controled dataset for calculation check:\n",
        "# slice the data based on failure point\n",
        "sliceAt = 6 # No. of top failure points needs to include\n",
        "mfList_c = mfList[:sliceAt]\n",
        "rawTS_c = rawTS[0:mfList_c[-1]+1]\n",
        "#Convert Raw TS in Inlier and outlier as per window size\n",
        "x_train,y_train,x_test,y_test = TrainTestData_HDF(b1,rawTS,mfList)\n",
        "# Check for max possible window size\n",
        "maxWin = maxPossibleWin(mfList)\n",
        "#Enrich the TS data\n",
        "X_Inliear = main_fm(b1,b2,b3,n,x_train)\n",
        "X_outlier = main_fm(b1,b2,b3,n,x_test)\n",
        "# Normalize Inliear ( Do not use now as outlier normalization shoud be based on Inlier min-Max value)\n",
        "#x_trainN, x_testN = normalizeData(X_Inliear,X_outlier,b3,n)\n",
        "x_trainN, x_testN = GlobalnormalizeData(X_Inliear,X_outlier,b3,n)\n",
        "# Since loss function is not converging, so need to trace the issue:We will check the Input and output values for model\n",
        "# create single record training set\n",
        "#x_trainN_1 = x_trainN[1].reshape(1,16,1) # training set with single record\n",
        "#x_trainN_10 = x_trainN[1:10] # training set with single record\n",
        "# Model generation and training:\n",
        "cnn1_model_1,k1,h1 = m4_2dcnnae_single_conv(b3,n,X_Inliear,e)\n",
        "y_pred = cnn1_model_1.predict(X_outlier)\n",
        "print(\"y_true.shape\",X_outlier.shape)\n",
        "print(\"y_predict.shape\",y_pred.shape)\n",
        "\n",
        "\n",
        "# img_gen(x_trainN,10)\n",
        "# img_gen(x_testN,10)"
      ],
      "metadata": {
        "id": "ZSR96-6a1xCM"
      },
      "id": "ZSR96-6a1xCM",
      "execution_count": null,
      "outputs": []
    },
    {
      "cell_type": "code",
      "source": [
        "TS_G,GNOR,GDON,HGNOR,HGDON,HNOR,HDON,TS_H = main_fm(b1,b2,b3,n,x_train)"
      ],
      "metadata": {
        "id": "avw9hPvG3MDK"
      },
      "id": "avw9hPvG3MDK",
      "execution_count": null,
      "outputs": []
    },
    {
      "cell_type": "code",
      "source": [
        "print(\"Shape of transfomred Data\",TS_H.shape)\n",
        "print(\"First record of new data \\n\",TS_H[0])"
      ],
      "metadata": {
        "colab": {
          "base_uri": "https://localhost:8080/"
        },
        "id": "ElJt0qGkJVfo",
        "outputId": "c247b8d9-ceb9-4f15-bad0-4224c4377785"
      },
      "id": "ElJt0qGkJVfo",
      "execution_count": null,
      "outputs": [
        {
          "output_type": "stream",
          "name": "stdout",
          "text": [
            "Shape of transfomred Data (931, 16, 1)\n",
            "First record of new data \n",
            " [[33.173]\n",
            " [33.078]\n",
            " [33.268]\n",
            " [33.102]\n",
            " [33.173]\n",
            " [33.244]\n",
            " [ 0.19 ]\n",
            " [ 0.081]\n",
            " [-0.008]\n",
            " [-0.19 ]\n",
            " [ 0.127]\n",
            " [-0.047]\n",
            " [ 0.016]\n",
            " [ 0.056]\n",
            " [ 0.316]\n",
            " [ 0.115]]\n"
          ]
        }
      ]
    },
    {
      "cell_type": "code",
      "source": [
        "print(\"Shape of transfomred Data\",HDON.shape)\n",
        "print(\"First record of new data \\n\",HDON[0])"
      ],
      "metadata": {
        "colab": {
          "base_uri": "https://localhost:8080/"
        },
        "id": "jHnLRN9hHY_W",
        "outputId": "4080adbf-5ba8-4dc8-bb8d-41adad7a2730"
      },
      "id": "jHnLRN9hHY_W",
      "execution_count": null,
      "outputs": [
        {
          "output_type": "stream",
          "name": "stdout",
          "text": [
            "Shape of transfomred Data (931, 8, 1)\n",
            "First record of new data \n",
            " [[-0.008]\n",
            " [-0.19 ]\n",
            " [ 0.127]\n",
            " [-0.047]\n",
            " [ 0.016]\n",
            " [ 0.056]\n",
            " [ 0.316]\n",
            " [ 0.115]]\n"
          ]
        }
      ]
    },
    {
      "cell_type": "code",
      "source": [
        "print(\"Shape of transfomred Data\",HNOR.shape)\n",
        "print(\"First record of new data \\n\",HNOR[0])"
      ],
      "metadata": {
        "colab": {
          "base_uri": "https://localhost:8080/"
        },
        "id": "CxS4_cGr_7Kz",
        "outputId": "76011bb8-7562-46b5-9ad1-7b3585f1f80f"
      },
      "id": "CxS4_cGr_7Kz",
      "execution_count": null,
      "outputs": [
        {
          "output_type": "stream",
          "name": "stdout",
          "text": [
            "Shape of transfomred Data (931, 8, 1)\n",
            "First record of new data \n",
            " [[33.173]\n",
            " [33.078]\n",
            " [33.268]\n",
            " [33.102]\n",
            " [33.173]\n",
            " [33.244]\n",
            " [ 0.19 ]\n",
            " [ 0.081]]\n"
          ]
        }
      ]
    },
    {
      "cell_type": "code",
      "source": [
        "print(\"Shape of transfomred Data\",HGDON.shape)\n",
        "print(\"First record of new data \\n\",HGDON[0])"
      ],
      "metadata": {
        "colab": {
          "base_uri": "https://localhost:8080/"
        },
        "id": "ia3m05G6-SGw",
        "outputId": "010419d6-aba7-4c4a-8d7e-6615c48bc7c3"
      },
      "id": "ia3m05G6-SGw",
      "execution_count": null,
      "outputs": [
        {
          "output_type": "stream",
          "name": "stdout",
          "text": [
            "Shape of transfomred Data (931, 4, 1)\n",
            "First record of new data \n",
            " [[ 0.   ]\n",
            " [ 0.127]\n",
            " [ 0.032]\n",
            " [-0.19 ]]\n"
          ]
        }
      ]
    },
    {
      "cell_type": "code",
      "source": [
        "print(\"Shape of transfomred Data\",GDON.shape)\n",
        "print(\"Top 10 record of new data \\n\",GDON[0:10])"
      ],
      "metadata": {
        "colab": {
          "base_uri": "https://localhost:8080/"
        },
        "id": "MC8DwN-_7YXH",
        "outputId": "b2efdbdb-190a-4828-b7b9-d50fbb091d42"
      },
      "id": "MC8DwN-_7YXH",
      "execution_count": null,
      "outputs": [
        {
          "output_type": "stream",
          "name": "stdout",
          "text": [
            "Shape of transfomred Data (1864, 1)\n",
            "Top 10 record of new data \n",
            " [[ 0.   ]\n",
            " [ 0.127]\n",
            " [ 0.032]\n",
            " [-0.19 ]\n",
            " [-0.19 ]\n",
            " [-0.063]\n",
            " [-0.095]\n",
            " [-0.095]\n",
            " [ 0.   ]\n",
            " [-0.126]]\n"
          ]
        }
      ]
    },
    {
      "cell_type": "code",
      "source": [
        "print(\"Shape of transfomred Data\",GNOR.shape)\n",
        "print(\"Top 10 record of new data \\n\",GNOR[0:10])"
      ],
      "metadata": {
        "colab": {
          "base_uri": "https://localhost:8080/"
        },
        "id": "0YBhty7z6WJl",
        "outputId": "bdcbe976-8181-4245-9a86-91eb7aa4d304"
      },
      "id": "0YBhty7z6WJl",
      "execution_count": null,
      "outputs": [
        {
          "output_type": "stream",
          "name": "stdout",
          "text": [
            "Shape of transfomred Data (1864, 1)\n",
            "Top 10 record of new data \n",
            " [[33.109]\n",
            " [33.236]\n",
            " [33.268]\n",
            " [33.078]\n",
            " [32.888]\n",
            " [32.825]\n",
            " [32.73 ]\n",
            " [32.635]\n",
            " [32.635]\n",
            " [32.509]]\n"
          ]
        }
      ]
    },
    {
      "cell_type": "code",
      "source": [
        "print(\"Shape of transfomred Data\",TS_G.shape)\n",
        "print(\"First record of new data \\n\",TS_G[0])"
      ],
      "metadata": {
        "colab": {
          "base_uri": "https://localhost:8080/"
        },
        "id": "ivZ20UqM4j5r",
        "outputId": "387648d8-a49b-4abb-fbf7-6883974f0194"
      },
      "id": "ivZ20UqM4j5r",
      "execution_count": null,
      "outputs": [
        {
          "output_type": "stream",
          "name": "stdout",
          "text": [
            "Shape of transfomred Data (1864, 10, 1)\n",
            "First record of new data \n",
            " [[10.5]\n",
            " [10.5]\n",
            " [10.4]\n",
            " [10.4]\n",
            " [10.5]\n",
            " [10.5]\n",
            " [10.5]\n",
            " [10.5]\n",
            " [10.4]\n",
            " [10.5]]\n"
          ]
        }
      ]
    },
    {
      "cell_type": "code",
      "source": [
        "print(\"Inlier Input Data Shape\",x_train.shape)\n",
        "print(\"Top 10 record \\n\",x_train[0:10])"
      ],
      "metadata": {
        "colab": {
          "base_uri": "https://localhost:8080/"
        },
        "id": "03SazPNF3VNb",
        "outputId": "788cc974-e000-4dd7-99f1-90975b6fb003"
      },
      "id": "03SazPNF3VNb",
      "execution_count": null,
      "outputs": [
        {
          "output_type": "stream",
          "name": "stdout",
          "text": [
            "Inlier Input Data Shape (9329, 1)\n",
            "Top 10 record \n",
            " [[10.5]\n",
            " [10.5]\n",
            " [10.4]\n",
            " [10.4]\n",
            " [10.5]\n",
            " [10.5]\n",
            " [10.5]\n",
            " [10.5]\n",
            " [10.4]\n",
            " [10.5]]\n"
          ]
        }
      ]
    },
    {
      "cell_type": "markdown",
      "source": [
        "### Effect of data enrichment "
      ],
      "metadata": {
        "id": "b6X-7OHKTW0m"
      },
      "id": "b6X-7OHKTW0m"
    },
    {
      "cell_type": "code",
      "source": [
        "# Inlear data ranges\n",
        "import numpy as np\n",
        "import matplotlib.pyplot as plt\n",
        "# plotting\n",
        "plt.figure(figsize=(30,10))\n",
        "plt.title(\"Inlear Vs Outlier range comparision\")\n",
        "plt.xlabel(\"X axis\")\n",
        "plt.ylabel(\"Charesteristic value\")\n",
        "inler = X_Inliear.reshape(931,16)\n",
        "Inlear_min = np.amin(inler,axis = 0)\n",
        "plt.plot(Inlear_min, color =\"green\")\n",
        "Inlear_max = np.amax(inler,axis = 0)\n",
        "plt.plot(Inlear_max, color =\"red\")\n",
        "print(\"inlear min values\",Inlear_min)\n",
        "print(\"inlear max values\",Inlear_max)\n",
        "#Outlier data ranges\n",
        "outler = X_outlier.reshape(113,16)\n",
        "Outler_min = np.amin(outler,axis = 0)\n",
        "plt.plot(Outler_min, color =\"blue\")\n",
        "Outler_max = np.amax(outler,axis = 0)\n",
        "plt.plot(Outler_max, color =\"orange\")\n",
        "print(\"Outlier min values\",Outler_min)\n",
        "print(\"Outlier max values\",Outler_max)\n",
        "# importing the library\n",
        "plt.show()\n"
      ],
      "metadata": {
        "colab": {
          "base_uri": "https://localhost:8080/",
          "height": 614
        },
        "id": "RqabFc3ZtOG4",
        "outputId": "117733bf-4a6c-4ada-ed15-6f2b6247dce5"
      },
      "id": "RqabFc3ZtOG4",
      "execution_count": null,
      "outputs": [
        {
          "output_type": "stream",
          "name": "stdout",
          "text": [
            "inlear min values [24.866 24.603 25.431 24.627 24.714 24.953  0.     0.    -0.554 -1.002\n",
            " -0.379 -0.947 -0.592 -0.379  0.031  0.014]\n",
            "inlear max values [37.892 37.79  37.98  37.813 37.9   37.979  2.142  0.818  0.664  0.409\n",
            "  0.948  0.488  0.65   0.826  1.541  0.651]\n",
            "Outlier min values [24.287 24.16  24.478 24.161 24.256 24.382  0.031  0.014 -0.467 -0.638\n",
            " -0.127 -0.606 -0.552 -0.413  0.031  0.016]\n",
            "Outlier max values [27.513 27.418 27.671 27.442 27.482 27.553  1.545  0.576  0.364  0.095\n",
            "  0.595  0.238  0.382  0.508  0.984  0.388]\n"
          ]
        },
        {
          "output_type": "display_data",
          "data": {
            "text/plain": [
              "<Figure size 2160x720 with 1 Axes>"
            ],
            "image/png": "[encoded data removed]"
          },
          "metadata": {
            "needs_background": "light"
          }
        }
      ]
    },
    {
      "cell_type": "markdown",
      "source": [
        "**We can see that outlier range is falling in between Inliear range, so diffrentiation through machine learning is not possible. This also shows that data enrichment technique used in this dataset is not suitable. So we need to check the variation on raw data for prediction**"
      ],
      "metadata": {
        "id": "0dJ8z0VT7Lei"
      },
      "id": "0dJ8z0VT7Lei"
    },
    {
      "cell_type": "code",
      "source": [
        "# importing the library\n",
        "import numpy as np\n",
        "import matplotlib.pyplot as plt\n",
        "\n",
        "# data to be plotted\n",
        "x = np.arange(1, 11)\n",
        "y = np.array([200, 20, 600, 40, 1000, 120, 700, 80, 900, 100])\n",
        "y1 = np.array([110, 20, 310, 30, 510, 70, 710, 90, 910, 110])\n",
        "\n",
        "# plotting\n",
        "plt.title(\"Line graph\")\n",
        "plt.xlabel(\"X axis\")\n",
        "plt.ylabel(\"Y axis\")\n",
        "plt.plot(y, color =\"green\")\n",
        "plt.plot(y1, color =\"red\")\n",
        "plt.show()"
      ],
      "metadata": {
        "colab": {
          "base_uri": "https://localhost:8080/",
          "height": 295
        },
        "id": "030wswpG1SkW",
        "outputId": "84616481-26a8-45df-e9ef-726da5b0ddca"
      },
      "id": "030wswpG1SkW",
      "execution_count": null,
      "outputs": [
        {
          "output_type": "display_data",
          "data": {
            "text/plain": [
              "<Figure size 432x288 with 1 Axes>"
            ],
            "image/png": "[encoded data removed]"
          },
          "metadata": {
            "needs_background": "light"
          }
        }
      ]
    },
    {
      "cell_type": "code",
      "source": [
        "X_outlier.shape"
      ],
      "metadata": {
        "colab": {
          "base_uri": "https://localhost:8080/"
        },
        "id": "kWGQ_2irwBsE",
        "outputId": "49c4ec74-c00c-4577-845f-42e9e453e7f0"
      },
      "id": "kWGQ_2irwBsE",
      "execution_count": null,
      "outputs": [
        {
          "output_type": "execute_result",
          "data": {
            "text/plain": [
              "(113, 16, 1)"
            ]
          },
          "metadata": {},
          "execution_count": 47
        }
      ]
    },
    {
      "cell_type": "code",
      "source": [
        "cnn1_model.get_weights()\n",
        "for layers in cnn1_model.layers:\n",
        "  print(\"Layer Name:\",layers)\n",
        "  print(\"Layers Values:\",layers.get_weights())"
      ],
      "metadata": {
        "colab": {
          "base_uri": "https://localhost:8080/"
        },
        "id": "XgEw-wmeO6U7",
        "outputId": "1656e2c4-6ec4-419d-ed5b-4f69a1d6f8ba"
      },
      "id": "XgEw-wmeO6U7",
      "execution_count": null,
      "outputs": [
        {
          "output_type": "stream",
          "name": "stdout",
          "text": [
            "Layer Name: <keras.engine.input_layer.InputLayer object at 0x7f4fd363cb10>\n",
            "Layers Values: []\n",
            "Layer Name: <keras.layers.convolutional.Conv2D object at 0x7f4f6b0b7390>\n",
            "Layers Values: [array([[[[ 0.211, -0.506,  0.213, -0.321, -0.142, -0.095,  0.362,\n",
            "          -0.382]]],\n",
            "\n",
            "\n",
            "       [[[-0.262, -0.053,  0.378, -0.366, -0.393,  0.317, -0.478,\n",
            "          -0.079]]]], dtype=float32), array([-0.017, -0.014,  0.   , -0.016, -0.018,  0.019,  0.019,  0.018],\n",
            "      dtype=float32)]\n",
            "Layer Name: <keras.layers.pooling.MaxPooling2D object at 0x7f4f6b0a6890>\n",
            "Layers Values: []\n",
            "Layer Name: <keras.layers.convolutional.Conv2D object at 0x7f4f6a364490>\n",
            "Layers Values: [array([[[[-0.184, -0.201, -0.097, -0.095, -0.099, -0.051,  0.156,\n",
            "          -0.2  ],\n",
            "         [ 0.153, -0.057,  0.15 ,  0.186, -0.045,  0.007, -0.027,\n",
            "          -0.043],\n",
            "         [ 0.151,  0.2  ,  0.123, -0.131,  0.09 , -0.045, -0.178,\n",
            "          -0.112],\n",
            "         [ 0.143, -0.007,  0.076, -0.014,  0.101, -0.08 ,  0.181,\n",
            "          -0.116],\n",
            "         [-0.071,  0.144,  0.188,  0.198, -0.039,  0.114,  0.083,\n",
            "           0.006],\n",
            "         [ 0.081,  0.106, -0.079, -0.018, -0.015,  0.058,  0.072,\n",
            "          -0.166],\n",
            "         [ 0.061, -0.001,  0.162, -0.069, -0.156, -0.073,  0.026,\n",
            "           0.115],\n",
            "         [-0.176, -0.07 , -0.088,  0.133, -0.053, -0.088, -0.088,\n",
            "           0.009]],\n",
            "\n",
            "        [[-0.092, -0.175,  0.095,  0.032, -0.083,  0.165, -0.181,\n",
            "          -0.058],\n",
            "         [ 0.196,  0.071, -0.168,  0.08 , -0.083,  0.117,  0.074,\n",
            "          -0.194],\n",
            "         [-0.14 ,  0.057,  0.062, -0.125, -0.043, -0.156,  0.119,\n",
            "          -0.111],\n",
            "         [ 0.047, -0.18 ,  0.039,  0.121, -0.092,  0.118,  0.13 ,\n",
            "          -0.097],\n",
            "         [-0.064, -0.196,  0.101, -0.056,  0.051,  0.043,  0.167,\n",
            "          -0.067],\n",
            "         [ 0.124, -0.14 ,  0.068,  0.192,  0.013,  0.016, -0.155,\n",
            "          -0.12 ],\n",
            "         [ 0.154,  0.137, -0.12 ,  0.159,  0.061, -0.105, -0.129,\n",
            "           0.061],\n",
            "         [ 0.13 ,  0.08 , -0.144,  0.002,  0.13 , -0.047, -0.183,\n",
            "          -0.176]],\n",
            "\n",
            "        [[ 0.117,  0.058,  0.043, -0.017, -0.021, -0.113,  0.091,\n",
            "          -0.137],\n",
            "         [ 0.112,  0.121, -0.017, -0.094, -0.195,  0.027,  0.046,\n",
            "           0.065],\n",
            "         [ 0.144,  0.064,  0.076,  0.013, -0.122,  0.172,  0.104,\n",
            "          -0.124],\n",
            "         [-0.128, -0.013,  0.18 , -0.091, -0.044, -0.023, -0.024,\n",
            "           0.144],\n",
            "         [ 0.029,  0.035,  0.112,  0.048, -0.051,  0.01 , -0.144,\n",
            "           0.104],\n",
            "         [-0.142, -0.084,  0.183, -0.137,  0.041, -0.119,  0.086,\n",
            "           0.196],\n",
            "         [ 0.016,  0.059,  0.109, -0.147, -0.195, -0.198, -0.2  ,\n",
            "          -0.124],\n",
            "         [-0.119, -0.083, -0.049,  0.186,  0.055, -0.113,  0.199,\n",
            "           0.047]]],\n",
            "\n",
            "\n",
            "       [[[-0.182,  0.1  , -0.   ,  0.098, -0.176,  0.106, -0.056,\n",
            "           0.141],\n",
            "         [-0.086,  0.188, -0.088,  0.107, -0.162, -0.02 ,  0.127,\n",
            "           0.072],\n",
            "         [ 0.072,  0.016,  0.127,  0.161, -0.174,  0.111, -0.029,\n",
            "          -0.073],\n",
            "         [ 0.053, -0.185,  0.181,  0.201,  0.173, -0.088,  0.121,\n",
            "           0.045],\n",
            "         [-0.031, -0.062, -0.022, -0.037,  0.047, -0.052, -0.202,\n",
            "          -0.001],\n",
            "         [ 0.019, -0.063,  0.127, -0.014,  0.089, -0.141, -0.18 ,\n",
            "          -0.11 ],\n",
            "         [-0.115,  0.08 , -0.204, -0.127,  0.095,  0.203, -0.044,\n",
            "           0.007],\n",
            "         [ 0.084,  0.178,  0.013, -0.106, -0.184, -0.143, -0.02 ,\n",
            "          -0.051]],\n",
            "\n",
            "        [[ 0.145,  0.088,  0.132,  0.104, -0.16 ,  0.039, -0.184,\n",
            "          -0.142],\n",
            "         [ 0.041, -0.094,  0.176,  0.212,  0.175,  0.117, -0.145,\n",
            "           0.067],\n",
            "         [ 0.116, -0.039, -0.05 , -0.022,  0.031, -0.184,  0.003,\n",
            "          -0.092],\n",
            "         [ 0.022, -0.051,  0.041,  0.036, -0.113, -0.028,  0.084,\n",
            "           0.086],\n",
            "         [-0.179, -0.058,  0.027, -0.058,  0.192,  0.131,  0.042,\n",
            "          -0.195],\n",
            "         [ 0.049, -0.015, -0.067,  0.149, -0.021,  0.014,  0.116,\n",
            "           0.092],\n",
            "         [ 0.046, -0.202, -0.199,  0.156, -0.007,  0.008,  0.119,\n",
            "           0.076],\n",
            "         [-0.102, -0.186, -0.168, -0.149,  0.049, -0.218,  0.094,\n",
            "          -0.151]],\n",
            "\n",
            "        [[ 0.068, -0.006, -0.023,  0.175,  0.14 , -0.176,  0.058,\n",
            "           0.012],\n",
            "         [ 0.045,  0.023,  0.008, -0.198, -0.122, -0.035,  0.006,\n",
            "           0.151],\n",
            "         [-0.139, -0.11 , -0.188, -0.013, -0.067,  0.192,  0.068,\n",
            "           0.167],\n",
            "         [-0.139, -0.104,  0.119,  0.111, -0.109, -0.075, -0.036,\n",
            "           0.038],\n",
            "         [-0.177, -0.155, -0.176, -0.013,  0.191,  0.083, -0.165,\n",
            "          -0.186],\n",
            "         [ 0.054, -0.163, -0.194,  0.16 , -0.103, -0.17 , -0.135,\n",
            "          -0.125],\n",
            "         [ 0.018, -0.105, -0.126,  0.163, -0.131,  0.018,  0.161,\n",
            "          -0.078],\n",
            "         [ 0.037,  0.131, -0.094, -0.125,  0.16 ,  0.017,  0.201,\n",
            "           0.113]]],\n",
            "\n",
            "\n",
            "       [[[ 0.044, -0.111,  0.117, -0.046, -0.148,  0.124,  0.023,\n",
            "          -0.031],\n",
            "         [-0.061,  0.152, -0.126, -0.17 , -0.084, -0.063, -0.083,\n",
            "          -0.002],\n",
            "         [-0.204, -0.044,  0.043, -0.154,  0.112,  0.059, -0.109,\n",
            "           0.139],\n",
            "         [-0.192,  0.056,  0.005,  0.144, -0.039, -0.087, -0.013,\n",
            "          -0.143],\n",
            "         [-0.187, -0.026, -0.061, -0.131,  0.069, -0.073,  0.02 ,\n",
            "           0.05 ],\n",
            "         [ 0.127, -0.146, -0.059, -0.109,  0.081, -0.136, -0.178,\n",
            "           0.134],\n",
            "         [-0.146,  0.084,  0.048,  0.188, -0.121, -0.188, -0.003,\n",
            "           0.073],\n",
            "         [ 0.192, -0.038, -0.039,  0.124,  0.11 , -0.15 ,  0.105,\n",
            "          -0.03 ]],\n",
            "\n",
            "        [[ 0.14 ,  0.012, -0.127,  0.138, -0.023, -0.152, -0.128,\n",
            "          -0.007],\n",
            "         [ 0.069, -0.15 ,  0.155, -0.071,  0.135,  0.114,  0.048,\n",
            "           0.049],\n",
            "         [-0.121,  0.191, -0.163, -0.079, -0.081, -0.09 ,  0.08 ,\n",
            "           0.174],\n",
            "         [-0.041,  0.189,  0.193,  0.099,  0.124,  0.009,  0.181,\n",
            "           0.104],\n",
            "         [ 0.024, -0.104, -0.085, -0.098, -0.01 , -0.114, -0.01 ,\n",
            "          -0.187],\n",
            "         [ 0.166, -0.011,  0.176, -0.154,  0.065,  0.035, -0.164,\n",
            "          -0.174],\n",
            "         [ 0.008, -0.062,  0.187,  0.144,  0.018,  0.044, -0.137,\n",
            "          -0.03 ],\n",
            "         [-0.003, -0.06 , -0.028,  0.037, -0.007,  0.022, -0.038,\n",
            "          -0.098]],\n",
            "\n",
            "        [[ 0.103, -0.068, -0.026,  0.186,  0.19 , -0.117,  0.093,\n",
            "           0.034],\n",
            "         [-0.189, -0.191,  0.189, -0.152,  0.035, -0.15 ,  0.089,\n",
            "           0.176],\n",
            "         [-0.016,  0.023,  0.005, -0.168,  0.184, -0.083, -0.069,\n",
            "          -0.025],\n",
            "         [-0.203, -0.04 , -0.191, -0.11 , -0.129,  0.056,  0.193,\n",
            "          -0.2  ],\n",
            "         [ 0.073,  0.158,  0.158,  0.016,  0.136,  0.172, -0.046,\n",
            "          -0.129],\n",
            "         [-0.011, -0.11 ,  0.126, -0.095,  0.167, -0.112,  0.146,\n",
            "           0.055],\n",
            "         [-0.071, -0.011, -0.132,  0.062,  0.163, -0.082, -0.039,\n",
            "          -0.09 ],\n",
            "         [-0.047,  0.058, -0.101, -0.01 ,  0.128, -0.15 ,  0.176,\n",
            "           0.026]]]], dtype=float32), array([ 0.018,  0.   ,  0.   ,  0.018,  0.017, -0.018,  0.017,  0.   ],\n",
            "      dtype=float32)]\n",
            "Layer Name: <keras.layers.convolutional.UpSampling2D object at 0x7f4f66eb9210>\n",
            "Layers Values: []\n",
            "Layer Name: <keras.layers.convolutional.Conv2D object at 0x7f4f66eacb50>\n",
            "Layers Values: [array([[[[-0.203],\n",
            "         [-0.498],\n",
            "         [-0.526],\n",
            "         [ 0.167],\n",
            "         [-0.472],\n",
            "         [ 0.293],\n",
            "         [-0.49 ],\n",
            "         [ 0.355]]],\n",
            "\n",
            "\n",
            "       [[[-0.477],\n",
            "         [ 0.356],\n",
            "         [-0.428],\n",
            "         [-0.466],\n",
            "         [ 0.052],\n",
            "         [ 0.532],\n",
            "         [ 0.063],\n",
            "         [ 0.442]]]], dtype=float32), array([-0.017], dtype=float32)]\n"
          ]
        }
      ]
    },
    {
      "cell_type": "code",
      "source": [
        "k1"
      ],
      "metadata": {
        "colab": {
          "base_uri": "https://localhost:8080/",
          "height": 644
        },
        "id": "C7VIttKw6I2R",
        "outputId": "cacfe5df-1c87-4f8a-9299-667cecbca79f"
      },
      "id": "C7VIttKw6I2R",
      "execution_count": null,
      "outputs": [
        {
          "output_type": "execute_result",
          "data": {
            "text/plain": [
              "<IPython.core.display.Image object>"
            ],
            "image/png": "[encoded data removed]"
          },
          "metadata": {},
          "execution_count": 78
        }
      ]
    },
    {
      "cell_type": "markdown",
      "source": [
        "## Basic Setup of 2DCNN-AE model with unnormalize data"
      ],
      "metadata": {
        "id": "Zmu_pvivWRq6"
      },
      "id": "Zmu_pvivWRq6"
    },
    {
      "cell_type": "code",
      "source": [
        "#################################### Main Unnormalized data#####################\n",
        "b1 = 10 # 1st stage window size of enrichment\n",
        "b2 = 4  # 2nd Stage window size of enrichment\n",
        "b3 =16\n",
        "n = 8\n",
        "e = 10 # no. of epochs\n",
        "# Load Raw TS data\n",
        "rawTS, mfList = rawDataload()\n",
        "# # Controled dataset for calculation check:\n",
        "# # slice the data based on failure point\n",
        "# sliceAt = 6 # No. of top failure points needs to include\n",
        "# mfList_c = mfList[:sliceAt]\n",
        "# rawTS_c = rawTS[0:mfList_c[-1]+1]\n",
        "# Convert Raw TS in Inlier and outlier as per window size\n",
        "x_train,y_train,x_test,y_test = TrainTestData(b1,rawTS,mfList)\n",
        "# Check for max possible window size\n",
        "maxWin = maxPossibleWin(mfList)\n",
        "# Enrich the TS data\n",
        "X_Inliear = main_fm(b1,b2,b3,n,x_train)\n",
        "X_outlier = main_fm(b1,b2,b3,n,x_test)\n",
        "# Normalize Inliear ( Do not use now as outlier normalization shoud be based on Inlier min-Max value)\n",
        "#x_trainN, x_testN = normalizeData(X_Inliear,X_outlier,b3,n)\n",
        "x_trainN, x_testN = GlobalnormalizeData(X_Inliear,X_outlier,b3,n)\n",
        "# Generate 2DCNN_AE\n",
        "cnn_ae_model , modelAsDAG = m1_cnn_ae_2d(b3,n)\n",
        "modelAsDAG\n",
        "# Compile and Train the Model\n",
        "history_2dcnnae = cnn_modelTrain(X_Inliear,e)\n",
        "# Plot accuracy graph\n",
        "plt_model_accuracy(history_2dcnnae)\n",
        "# Outlier prediction\n",
        "outlierPredict(X_Inliear,X_outlier,cnn_ae_model)\n"
      ],
      "metadata": {
        "colab": {
          "base_uri": "https://localhost:8080/",
          "height": 1000
        },
        "id": "pvlZTX-FPrnR",
        "outputId": "10508b69-b1c7-49ca-a286-7bb74131acb1"
      },
      "id": "pvlZTX-FPrnR",
      "execution_count": null,
      "outputs": [
        {
          "output_type": "stream",
          "name": "stdout",
          "text": [
            "Epoch 1/10\n",
            "24/24 [==============================] - 1s 27ms/step - loss: 589158.8750 - cosine_similarity: 0.4014 - val_loss: 160674.3438 - val_cosine_similarity: 0.4833\n",
            "Epoch 2/10\n",
            "24/24 [==============================] - 0s 18ms/step - loss: 80898.1484 - cosine_similarity: 0.4936 - val_loss: 29817.6211 - val_cosine_similarity: 0.5050\n",
            "Epoch 3/10\n",
            "24/24 [==============================] - 0s 18ms/step - loss: 19010.9941 - cosine_similarity: 0.4993 - val_loss: 12684.3770 - val_cosine_similarity: 0.5052\n",
            "Epoch 4/10\n",
            "24/24 [==============================] - 0s 18ms/step - loss: 12764.7256 - cosine_similarity: 0.5024 - val_loss: 11448.5342 - val_cosine_similarity: 0.5055\n",
            "Epoch 5/10\n",
            "24/24 [==============================] - 0s 18ms/step - loss: 12317.4004 - cosine_similarity: 0.5139 - val_loss: 11330.8184 - val_cosine_similarity: 0.5390\n",
            "Epoch 6/10\n",
            "24/24 [==============================] - 0s 18ms/step - loss: 12236.5332 - cosine_similarity: 0.5478 - val_loss: 11276.5225 - val_cosine_similarity: 0.5565\n",
            "Epoch 7/10\n",
            "24/24 [==============================] - 0s 19ms/step - loss: 12178.0996 - cosine_similarity: 0.5570 - val_loss: 11232.6455 - val_cosine_similarity: 0.5630\n",
            "Epoch 8/10\n",
            "24/24 [==============================] - 0s 19ms/step - loss: 12127.9053 - cosine_similarity: 0.5646 - val_loss: 11244.0303 - val_cosine_similarity: 0.5780\n",
            "Epoch 9/10\n",
            "24/24 [==============================] - 0s 18ms/step - loss: 12147.4795 - cosine_similarity: 0.5801 - val_loss: 11296.8428 - val_cosine_similarity: 0.5788\n",
            "Epoch 10/10\n",
            "24/24 [==============================] - 0s 18ms/step - loss: 12052.3604 - cosine_similarity: 0.5823 - val_loss: 11101.7314 - val_cosine_similarity: 0.5849\n",
            "dict_keys(['loss', 'cosine_similarity', 'val_loss', 'val_cosine_similarity'])\n"
          ]
        },
        {
          "output_type": "display_data",
          "data": {
            "text/plain": [
              "<Figure size 1152x396 with 1 Axes>"
            ],
            "image/png": "[encoded data removed]"
          },
          "metadata": {
            "needs_background": "light"
          }
        },
        {
          "output_type": "display_data",
          "data": {
            "text/plain": [
              "<Figure size 1152x396 with 1 Axes>"
            ],
            "image/png": "[encoded data removed]"
          },
          "metadata": {
            "needs_background": "light"
          }
        },
        {
          "output_type": "stream",
          "name": "stdout",
          "text": [
            "Inlear Upper bound: 47226.9\n",
            "Inlear Lower bound: 2763.9756\n",
            "Outlier Upper bound: 32092.973\n",
            "Outlier Lower bound: 15291.703\n",
            "No. of correctly identified outlier: 0\n"
          ]
        }
      ]
    },
    {
      "cell_type": "code",
      "source": [
        "# Model DAG ( Directed Acyclic Graph)\n",
        "modelAsDAG"
      ],
      "metadata": {
        "id": "E9dJCd4F3V4O",
        "outputId": "40340aa1-3da5-4ae7-e181-37cb96890ab9",
        "colab": {
          "base_uri": "https://localhost:8080/",
          "height": 865
        }
      },
      "id": "E9dJCd4F3V4O",
      "execution_count": null,
      "outputs": [
        {
          "output_type": "execute_result",
          "data": {
            "text/plain": [
              "<IPython.core.display.Image object>"
            ],
            "image/png": "[encoded data removed]"
          },
          "metadata": {},
          "execution_count": 38
        }
      ]
    },
    {
      "cell_type": "markdown",
      "source": [
        "## Basic 2DCNN_AE model with Normalized(Z-score) data"
      ],
      "metadata": {
        "id": "fuU5FswcYzif"
      },
      "id": "fuU5FswcYzif"
    },
    {
      "cell_type": "code",
      "source": [
        "#################################### Main Normalized data#####################\n",
        "b1 = 10 # 1st stage window size of enrichment\n",
        "b2 = 4  # 2nd Stage window size of enrichment\n",
        "b3 =16\n",
        "n = 8\n",
        "e = 10 # no. of epochs\n",
        "# Load Raw TS data\n",
        "rawTS, mfList = rawDataload()\n",
        "# # Controled dataset for calculation check:\n",
        "# # slice the data based on failure point\n",
        "# sliceAt = 6 # No. of top failure points needs to include\n",
        "# mfList_c = mfList[:sliceAt]\n",
        "# rawTS_c = rawTS[0:mfList_c[-1]+1]\n",
        "# Convert Raw TS in Inlier and outlier as per window size\n",
        "x_train,y_train,x_test,y_test = TrainTestData(b1,rawTS,mfList)\n",
        "# Check for max possible window size\n",
        "maxWin = maxPossibleWin(mfList)\n",
        "# Enrich the TS data\n",
        "X_Inliear = main_fm(b1,b2,b3,n,x_train)\n",
        "X_outlier = main_fm(b1,b2,b3,n,x_test)\n",
        "# Normalize Inliear ( Do not use now as outlier normalization shoud be based on Inlier min-Max value)\n",
        "#x_trainN, x_testN = normalizeData(X_Inliear,X_outlier,b3,n)\n",
        "x_trainN, x_testN = GlobalnormalizeData(X_Inliear,X_outlier,b3,n)\n",
        "\n",
        "# Generate 2DCNN_AE\n",
        "cnn_ae_model , modelAsDAG = m1_cnn_ae_2d(b3,n)\n",
        "modelAsDAG\n",
        "# Compile and Train the Model\n",
        "history_2dcnnae = cnn_modelTrain(x_trainN,e)\n",
        "# Plot accuracy graph\n",
        "plt_model_accuracy(history_2dcnnae)\n",
        "# Outlier prediction\n",
        "outlierPredict(x_trainN,x_testN,cnn_ae_model)"
      ],
      "metadata": {
        "colab": {
          "base_uri": "https://localhost:8080/",
          "height": 1000
        },
        "id": "VZIG2GpsVkjg",
        "outputId": "e54aeadc-b09d-40ac-d7bd-358270d6a315"
      },
      "id": "VZIG2GpsVkjg",
      "execution_count": null,
      "outputs": [
        {
          "output_type": "stream",
          "name": "stdout",
          "text": [
            "Epoch 1/10\n",
            "24/24 [==============================] - 1s 28ms/step - loss: 0.7324 - cosine_similarity: 0.2241 - val_loss: 0.5574 - val_cosine_similarity: 0.3387\n",
            "Epoch 2/10\n",
            "24/24 [==============================] - 0s 20ms/step - loss: 0.5103 - cosine_similarity: 0.3741 - val_loss: 0.4699 - val_cosine_similarity: 0.3865\n",
            "Epoch 3/10\n",
            "24/24 [==============================] - 0s 19ms/step - loss: 0.4577 - cosine_similarity: 0.4099 - val_loss: 0.4408 - val_cosine_similarity: 0.4207\n",
            "Epoch 4/10\n",
            "24/24 [==============================] - 0s 20ms/step - loss: 0.4390 - cosine_similarity: 0.4290 - val_loss: 0.4304 - val_cosine_similarity: 0.4366\n",
            "Epoch 5/10\n",
            "24/24 [==============================] - 0s 20ms/step - loss: 0.4310 - cosine_similarity: 0.4392 - val_loss: 0.4257 - val_cosine_similarity: 0.4369\n",
            "Epoch 6/10\n",
            "24/24 [==============================] - 0s 20ms/step - loss: 0.4266 - cosine_similarity: 0.4430 - val_loss: 0.4234 - val_cosine_similarity: 0.4447\n",
            "Epoch 7/10\n",
            "24/24 [==============================] - 0s 21ms/step - loss: 0.4240 - cosine_similarity: 0.4462 - val_loss: 0.4209 - val_cosine_similarity: 0.4467\n",
            "Epoch 8/10\n",
            "24/24 [==============================] - 0s 19ms/step - loss: 0.4214 - cosine_similarity: 0.4473 - val_loss: 0.4187 - val_cosine_similarity: 0.4472\n",
            "Epoch 9/10\n",
            "24/24 [==============================] - 0s 19ms/step - loss: 0.4196 - cosine_similarity: 0.4487 - val_loss: 0.4171 - val_cosine_similarity: 0.4489\n",
            "Epoch 10/10\n",
            "24/24 [==============================] - 0s 19ms/step - loss: 0.4180 - cosine_similarity: 0.4499 - val_loss: 0.4162 - val_cosine_similarity: 0.4501\n",
            "dict_keys(['loss', 'cosine_similarity', 'val_loss', 'val_cosine_similarity'])\n"
          ]
        },
        {
          "output_type": "display_data",
          "data": {
            "text/plain": [
              "<Figure size 1152x396 with 1 Axes>"
            ],
            "image/png": "[encoded data removed]"
          },
          "metadata": {
            "needs_background": "light"
          }
        },
        {
          "output_type": "display_data",
          "data": {
            "text/plain": [
              "<Figure size 1152x396 with 1 Axes>"
            ],
            "image/png": "[encoded data removed]"
          },
          "metadata": {
            "needs_background": "light"
          }
        },
        {
          "output_type": "stream",
          "name": "stdout",
          "text": [
            "Inlear Upper bound: 0.6125431\n",
            "Inlear Lower bound: 0.32956582\n",
            "Outlier Upper bound: 0.59792805\n",
            "Outlier Lower bound: 0.35274816\n",
            "No. of correctly identified outlier: 0\n"
          ]
        }
      ]
    },
    {
      "cell_type": "code",
      "source": [
        "cnn_ae_model.summary()"
      ],
      "metadata": {
        "colab": {
          "base_uri": "https://localhost:8080/"
        },
        "id": "8ksIp2yNW41T",
        "outputId": "3250b93d-0141-49e5-c15b-2131c324df4a"
      },
      "id": "8ksIp2yNW41T",
      "execution_count": null,
      "outputs": [
        {
          "output_type": "stream",
          "name": "stdout",
          "text": [
            "Model: \"model_2\"\n",
            "_________________________________________________________________\n",
            " Layer (type)                Output Shape              Param #   \n",
            "=================================================================\n",
            " img (InputLayer)            [(None, 16, 8, 1)]        0         \n",
            "                                                                 \n",
            " conv2d_4 (Conv2D)           (None, 14, 7, 16)         112       \n",
            "                                                                 \n",
            " conv2d_5 (Conv2D)           (None, 12, 6, 32)         3104      \n",
            "                                                                 \n",
            " max_pooling2d_2 (MaxPooling  (None, 6, 3, 32)         0         \n",
            " 2D)                                                             \n",
            "                                                                 \n",
            " conv2d_transpose_6 (Conv2DT  (None, 12, 6, 32)        28704     \n",
            " ranspose)                                                       \n",
            "                                                                 \n",
            " conv2d_transpose_7 (Conv2DT  (None, 14, 7, 16)        3088      \n",
            " ranspose)                                                       \n",
            "                                                                 \n",
            " conv2d_transpose_8 (Conv2DT  (None, 16, 8, 1)         97        \n",
            " ranspose)                                                       \n",
            "                                                                 \n",
            " reshape_2 (Reshape)         (None, 16, 8)             0         \n",
            "                                                                 \n",
            "=================================================================\n",
            "Total params: 35,105\n",
            "Trainable params: 35,105\n",
            "Non-trainable params: 0\n",
            "_________________________________________________________________\n"
          ]
        }
      ]
    },
    {
      "cell_type": "markdown",
      "source": [
        "## Optimization of 2DCNN-AE through Hypre Parameter optimization: Variable::window size:b1(1st window), Constant::(2nd window size=4, 2DCNN-AE model)"
      ],
      "metadata": {
        "id": "eRkxOi_-cI8Y"
      },
      "id": "eRkxOi_-cI8Y"
    },
    {
      "cell_type": "code",
      "source": [
        "#Paraemter optimization through iterration\n",
        "# Iteration of b1 by keeping model and b2 fixed\n",
        "for b1 in range(2,40,2):\n",
        "  #################################### Main Normalized data#####################\n",
        "  #b1 = 10 # 1st stage window size of enrichment\n",
        "  print(\"Window size:\",b1)\n",
        "  b2 = 4  # 2nd Stage window size of enrichment\n",
        "  b3 =16\n",
        "  n = 8\n",
        "  e = 50 # no. of epochs\n",
        "  # Load Raw TS data\n",
        "  rawTS, mfList = rawDataload()\n",
        "  # # Controled dataset for calculation check:\n",
        "  # # slice the data based on failure point\n",
        "  # sliceAt = 6 # No. of top failure points needs to include\n",
        "  # mfList_c = mfList[:sliceAt]\n",
        "  # rawTS_c = rawTS[0:mfList_c[-1]+1]\n",
        "  # Convert Raw TS in Inlier and outlier as per window size\n",
        "  x_train,y_train,x_test,y_test = TrainTestData(b1,rawTS,mfList)\n",
        "  # Check for max possible window size\n",
        "  maxWin = maxPossibleWin(mfList)\n",
        "  # Enrich the TS data\n",
        "  X_Inliear = main_fm(b1,b2,b3,n,x_train)\n",
        "  X_outlier = main_fm(b1,b2,b3,n,x_test)\n",
        "  # Normalize Inliear ( Do not use now as outlier normalization shoud be based on Inlier min-Max value)\n",
        "  x_trainN, x_testN = GlobalnormalizeData(X_Inliear,X_outlier,b3,n)\n",
        "  # Generate 2DCNN_AE\n",
        "  cnn_ae_model , modelAsDAG = cnn_ae_2d(b3,n)\n",
        "  modelAsDAG\n",
        "  # Compile and Train the Model\n",
        "  history_2dcnnae = modelTrain(x_trainN,e)\n",
        "  # Plot accuracy graph\n",
        "  #plt_model_accuracy(history_2dcnnae)\n",
        "  # Outlier prediction\n",
        "  outlierPredict(x_trainN,x_testN)"
      ],
      "metadata": {
        "colab": {
          "base_uri": "https://localhost:8080/"
        },
        "id": "UBY9_00mgkob",
        "outputId": "4910f4da-b86e-40f0-eeca-ade55d4d9b0f"
      },
      "id": "UBY9_00mgkob",
      "execution_count": null,
      "outputs": [
        {
          "output_type": "stream",
          "name": "stdout",
          "text": [
            "Window size: 2\n",
            "Inlear Upper bound: 0.61045325\n",
            "Inlear Lower bound: 0.28823847\n",
            "Outlier Upper bound: 0.46519217\n",
            "Outlier Lower bound: 0.3129019\n",
            "No. of correctly identified outlier: 0\n",
            "Window size: 4\n",
            "Inlear Upper bound: 0.6101676\n",
            "Inlear Lower bound: 0.31058317\n",
            "Outlier Upper bound: 0.50775224\n",
            "Outlier Lower bound: 0.32696396\n",
            "No. of correctly identified outlier: 0\n",
            "Window size: 6\n",
            "Inlear Upper bound: 0.57900167\n",
            "Inlear Lower bound: 0.3180877\n",
            "Outlier Upper bound: 0.4631728\n",
            "Outlier Lower bound: 0.3463121\n",
            "No. of correctly identified outlier: 0\n",
            "Window size: 8\n",
            "Inlear Upper bound: 0.67745787\n",
            "Inlear Lower bound: 0.3283954\n",
            "Outlier Upper bound: 0.5224\n",
            "Outlier Lower bound: 0.3310228\n",
            "No. of correctly identified outlier: 0\n",
            "Window size: 10\n",
            "Inlear Upper bound: 0.5779026\n",
            "Inlear Lower bound: 0.3234046\n",
            "Outlier Upper bound: 0.52014524\n",
            "Outlier Lower bound: 0.3371725\n",
            "No. of correctly identified outlier: 0\n",
            "Window size: 12\n",
            "Inlear Upper bound: 0.79257894\n",
            "Inlear Lower bound: 0.35236138\n",
            "Outlier Upper bound: 0.6959737\n",
            "Outlier Lower bound: 0.38328642\n",
            "No. of correctly identified outlier: 0\n",
            "Window size: 14\n",
            "Inlear Upper bound: 0.57149816\n",
            "Inlear Lower bound: 0.32935512\n",
            "Outlier Upper bound: 0.46363422\n",
            "Outlier Lower bound: 0.3509328\n",
            "No. of correctly identified outlier: 0\n",
            "Window size: 16\n",
            "Inlear Upper bound: 0.59792185\n",
            "Inlear Lower bound: 0.32474396\n",
            "Outlier Upper bound: 0.47171086\n",
            "Outlier Lower bound: 0.34966195\n",
            "No. of correctly identified outlier: 0\n",
            "Window size: 18\n",
            "Inlear Upper bound: 0.54211587\n",
            "Inlear Lower bound: 0.3271861\n",
            "Outlier Upper bound: 0.49735004\n",
            "Outlier Lower bound: 0.36297315\n",
            "No. of correctly identified outlier: 0\n",
            "Window size: 20\n",
            "Inlear Upper bound: 0.5754452\n",
            "Inlear Lower bound: 0.32733142\n",
            "Outlier Upper bound: 0.50738335\n",
            "Outlier Lower bound: 0.36982417\n",
            "No. of correctly identified outlier: 0\n",
            "Window size: 22\n",
            "Inlear Upper bound: 0.6526532\n",
            "Inlear Lower bound: 0.33427\n",
            "Outlier Upper bound: 0.6532042\n",
            "Outlier Lower bound: 0.36631027\n",
            "No. of correctly identified outlier: 1\n",
            "Window size: 24\n",
            "Inlear Upper bound: 0.6411789\n",
            "Inlear Lower bound: 0.33281022\n",
            "Outlier Upper bound: 0.49548924\n",
            "Outlier Lower bound: 0.37398073\n",
            "No. of correctly identified outlier: 0\n",
            "Window size: 26\n",
            "Inlear Upper bound: 0.5825817\n",
            "Inlear Lower bound: 0.33441934\n",
            "Outlier Upper bound: 0.494444\n",
            "Outlier Lower bound: 0.38673285\n",
            "No. of correctly identified outlier: 0\n",
            "Window size: 28\n",
            "Inlear Upper bound: 0.6370581\n",
            "Inlear Lower bound: 0.33196455\n",
            "Outlier Upper bound: 0.52492297\n",
            "Outlier Lower bound: 0.3985284\n",
            "No. of correctly identified outlier: 0\n",
            "Window size: 30\n",
            "Inlear Upper bound: 0.53451127\n",
            "Inlear Lower bound: 0.33023545\n",
            "Outlier Upper bound: 0.58717173\n",
            "Outlier Lower bound: 0.4060669\n",
            "No. of correctly identified outlier: 2\n",
            "Window size: 32\n",
            "Inlear Upper bound: 0.5313122\n",
            "Inlear Lower bound: 0.32905954\n",
            "Outlier Upper bound: 0.56022894\n",
            "Outlier Lower bound: 0.3972336\n",
            "No. of correctly identified outlier: 1\n",
            "Window size: 34\n",
            "Inlear Upper bound: 0.5575132\n",
            "Inlear Lower bound: 0.34515\n",
            "Outlier Upper bound: 0.5514535\n",
            "Outlier Lower bound: 0.39854798\n",
            "No. of correctly identified outlier: 0\n",
            "Window size: 36\n",
            "Inlear Upper bound: 0.5180751\n",
            "Inlear Lower bound: 0.35277686\n",
            "Outlier Upper bound: 0.51388276\n",
            "Outlier Lower bound: 0.40534312\n",
            "No. of correctly identified outlier: 0\n",
            "Window size: 38\n",
            "Inlear Upper bound: 0.571656\n",
            "Inlear Lower bound: 0.3423217\n",
            "Outlier Upper bound: 0.47908598\n",
            "Outlier Lower bound: 0.40114605\n",
            "No. of correctly identified outlier: 0\n"
          ]
        }
      ]
    },
    {
      "cell_type": "markdown",
      "source": [
        "**Best configuration**\n",
        "\n",
        "Window size: 30\n",
        "\n",
        "Inlear Upper bound: 0.53451127\n",
        "Inlear Lower bound: 0.33023545\n",
        "\n",
        "\n",
        "Outlier Upper bound: 0.58717173\n",
        "Outlier Lower bound: 0.4060669\n",
        "No. of correctly identified outlier: 2"
      ],
      "metadata": {
        "id": "0x3KijtLfX-W"
      },
      "id": "0x3KijtLfX-W"
    },
    {
      "cell_type": "markdown",
      "source": [
        "## Optimization of 2DCNN-AE through Hypre Parameter optimization: Variable::window size:b2(2nd window), Constant::(1st window size=30, 2DCNN-AE model)"
      ],
      "metadata": {
        "id": "n9J703gsfzeF"
      },
      "id": "n9J703gsfzeF"
    },
    {
      "cell_type": "code",
      "source": [
        "#Paraemter optimization through iterration\n",
        "# Iteration of b1 by keeping model and b2 fixed\n",
        "for b2 in range(2,40,2):\n",
        "  #################################### Main Normalized data#####################\n",
        "  b1 = 30 # 1st stage window size of enrichment\n",
        "  print(\"2nd Window size:\",b2)\n",
        "  #b2 = 4  # 2nd Stage window size of enrichment\n",
        "  b3 =16\n",
        "  n = 8\n",
        "  e = 50 # no. of epochs\n",
        "  # Load Raw TS data\n",
        "  rawTS, mfList = rawDataload()\n",
        "  # # Controled dataset for calculation check:\n",
        "  # # slice the data based on failure point\n",
        "  # sliceAt = 6 # No. of top failure points needs to include\n",
        "  # mfList_c = mfList[:sliceAt]\n",
        "  # rawTS_c = rawTS[0:mfList_c[-1]+1]\n",
        "  # Convert Raw TS in Inlier and outlier as per window size\n",
        "  x_train,y_train,x_test,y_test = TrainTestData(b1,rawTS,mfList)\n",
        "  # Check for max possible window size\n",
        "  maxWin = maxPossibleWin(mfList)\n",
        "  # Enrich the TS data\n",
        "  X_Inliear = main_fm(b1,b2,b3,n,x_train)\n",
        "  X_outlier = main_fm(b1,b2,b3,n,x_test)\n",
        "  # Normalize Inliear ( Do not use now as outlier normalization shoud be based on Inlier min-Max value)\n",
        "  x_trainN, x_testN = GlobalnormalizeData(X_Inliear,X_outlier,b3,n)\n",
        "  # Generate 2DCNN_AE\n",
        "  cnn_ae_model , modelAsDAG = cnn_ae_2d(b3,n)\n",
        "  modelAsDAG\n",
        "  # Compile and Train the Model\n",
        "  history_2dcnnae = modelTrain(x_trainN,e)\n",
        "  # Plot accuracy graph\n",
        "  #plt_model_accuracy(history_2dcnnae)\n",
        "  # Outlier prediction\n",
        "  outlierPredict(x_trainN,x_testN)"
      ],
      "metadata": {
        "colab": {
          "base_uri": "https://localhost:8080/"
        },
        "id": "uLhwq4N2gCvE",
        "outputId": "07263010-3f8d-4726-b0c7-572226e0941f"
      },
      "id": "uLhwq4N2gCvE",
      "execution_count": null,
      "outputs": [
        {
          "output_type": "stream",
          "name": "stdout",
          "text": [
            "2nd Window size: 2\n",
            "Inlear Upper bound: 0.56734455\n",
            "Inlear Lower bound: 0.329588\n",
            "Outlier Upper bound: 0.6363872\n",
            "Outlier Lower bound: 0.4012862\n",
            "No. of correctly identified outlier: 2\n",
            "2nd Window size: 4\n",
            "Inlear Upper bound: 0.5700362\n",
            "Inlear Lower bound: 0.32969832\n",
            "Outlier Upper bound: 0.6507447\n",
            "Outlier Lower bound: 0.40172744\n",
            "No. of correctly identified outlier: 2\n",
            "2nd Window size: 6\n",
            "Inlear Upper bound: 0.56489426\n",
            "Inlear Lower bound: 0.33039486\n",
            "Outlier Upper bound: 0.64125925\n",
            "Outlier Lower bound: 0.40339056\n",
            "No. of correctly identified outlier: 2\n",
            "2nd Window size: 8\n",
            "Inlear Upper bound: 0.5712293\n",
            "Inlear Lower bound: 0.32931882\n",
            "Outlier Upper bound: 0.6448972\n",
            "Outlier Lower bound: 0.40437782\n",
            "No. of correctly identified outlier: 2\n",
            "2nd Window size: 10\n",
            "Inlear Upper bound: 0.5032557\n",
            "Inlear Lower bound: 0.32368737\n",
            "Outlier Upper bound: 0.5454067\n",
            "Outlier Lower bound: 0.3982141\n",
            "No. of correctly identified outlier: 1\n",
            "2nd Window size: 12\n",
            "Inlear Upper bound: 0.5113213\n",
            "Inlear Lower bound: 0.32438573\n",
            "Outlier Upper bound: 0.56285197\n",
            "Outlier Lower bound: 0.4035519\n",
            "No. of correctly identified outlier: 2\n",
            "2nd Window size: 14\n",
            "Inlear Upper bound: 0.5460426\n",
            "Inlear Lower bound: 0.32509038\n",
            "Outlier Upper bound: 0.6306228\n",
            "Outlier Lower bound: 0.40795013\n",
            "No. of correctly identified outlier: 2\n",
            "2nd Window size: 16\n",
            "Inlear Upper bound: 0.5697607\n",
            "Inlear Lower bound: 0.32988864\n",
            "Outlier Upper bound: 0.64491713\n",
            "Outlier Lower bound: 0.4031341\n",
            "No. of correctly identified outlier: 2\n",
            "2nd Window size: 18\n",
            "Inlear Upper bound: 0.5292204\n",
            "Inlear Lower bound: 0.32979915\n",
            "Outlier Upper bound: 0.5651791\n",
            "Outlier Lower bound: 0.39963827\n",
            "No. of correctly identified outlier: 1\n",
            "2nd Window size: 20\n",
            "Inlear Upper bound: 0.53174365\n",
            "Inlear Lower bound: 0.32955816\n",
            "Outlier Upper bound: 0.57805586\n",
            "Outlier Lower bound: 0.40394837\n",
            "No. of correctly identified outlier: 1\n",
            "2nd Window size: 22\n",
            "Inlear Upper bound: 0.5020193\n",
            "Inlear Lower bound: 0.32337633\n",
            "Outlier Upper bound: 0.5498133\n",
            "Outlier Lower bound: 0.3990795\n",
            "No. of correctly identified outlier: 2\n",
            "2nd Window size: 24\n",
            "Inlear Upper bound: 0.54538924\n",
            "Inlear Lower bound: 0.32365698\n",
            "Outlier Upper bound: 0.6199821\n",
            "Outlier Lower bound: 0.39698917\n",
            "No. of correctly identified outlier: 2\n",
            "2nd Window size: 26\n",
            "Inlear Upper bound: 0.56860363\n",
            "Inlear Lower bound: 0.3296917\n",
            "Outlier Upper bound: 0.63972974\n",
            "Outlier Lower bound: 0.4011622\n",
            "No. of correctly identified outlier: 2\n",
            "2nd Window size: 28\n",
            "Inlear Upper bound: 0.52798796\n",
            "Inlear Lower bound: 0.32898855\n",
            "Outlier Upper bound: 0.5625069\n",
            "Outlier Lower bound: 0.3994354\n",
            "No. of correctly identified outlier: 1\n",
            "2nd Window size: 30\n",
            "Inlear Upper bound: 0.56839406\n",
            "Inlear Lower bound: 0.32907283\n",
            "Outlier Upper bound: 0.64405155\n",
            "Outlier Lower bound: 0.40458256\n",
            "No. of correctly identified outlier: 2\n",
            "2nd Window size: 32\n",
            "Inlear Upper bound: 0.54767483\n",
            "Inlear Lower bound: 0.32440704\n",
            "Outlier Upper bound: 0.6219895\n",
            "Outlier Lower bound: 0.4025747\n",
            "No. of correctly identified outlier: 2\n",
            "2nd Window size: 34\n",
            "Inlear Upper bound: 0.50718665\n",
            "Inlear Lower bound: 0.32391918\n",
            "Outlier Upper bound: 0.5429519\n",
            "Outlier Lower bound: 0.39716065\n",
            "No. of correctly identified outlier: 1\n",
            "2nd Window size: 36\n",
            "Inlear Upper bound: 0.52482766\n",
            "Inlear Lower bound: 0.32941782\n",
            "Outlier Upper bound: 0.57415897\n",
            "Outlier Lower bound: 0.40368247\n",
            "No. of correctly identified outlier: 2\n",
            "2nd Window size: 38\n",
            "Inlear Upper bound: 0.52952385\n",
            "Inlear Lower bound: 0.3289442\n",
            "Outlier Upper bound: 0.5858109\n",
            "Outlier Lower bound: 0.3994928\n",
            "No. of correctly identified outlier: 2\n"
          ]
        }
      ]
    },
    {
      "cell_type": "markdown",
      "source": [
        "**With change of windows , no improvment in outlier detection observed so we will consider this as Independent parameter and keep it on lower side**"
      ],
      "metadata": {
        "id": "36ExK_xvhsOI"
      },
      "id": "36ExK_xvhsOI"
    },
    {
      "cell_type": "markdown",
      "source": [
        "## Optimization of 2DCNN-AE through Hypre Parameter optimization: Variable::model design, Constant::(1st window size=30,2nd window:4)"
      ],
      "metadata": {
        "id": "Q4DX4hIViAWW"
      },
      "id": "Q4DX4hIViAWW"
    },
    {
      "cell_type": "code",
      "source": [
        "#Paraemter optimization through iterration\n",
        "# Iteration of b1 by keeping model and b2 fixed\n",
        "#################################### Main Normalized data#####################\n",
        "b1 = 30 # 1st stage window size of enrichment\n",
        "print(\"2nd Window size:\",b2)\n",
        "b2 = 4  # 2nd Stage window size of enrichment\n",
        "b3 =16\n",
        "n = 8\n",
        "e = 50 # no. of epochs\n",
        "# Load Raw TS data\n",
        "rawTS, mfList = rawDataload()\n",
        "# # Controled dataset for calculation check:\n",
        "# # slice the data based on failure point\n",
        "# sliceAt = 6 # No. of top failure points needs to include\n",
        "# mfList_c = mfList[:sliceAt]\n",
        "# rawTS_c = rawTS[0:mfList_c[-1]+1]\n",
        "# Convert Raw TS in Inlier and outlier as per window size\n",
        "x_train,y_train,x_test,y_test = TrainTestData(b1,rawTS,mfList)\n",
        "# Check for max possible window size\n",
        "maxWin = maxPossibleWin(mfList)\n",
        "# Enrich the TS data\n",
        "X_Inliear = main_fm(b1,b2,b3,n,x_train)\n",
        "X_outlier = main_fm(b1,b2,b3,n,x_test)\n",
        "# Normalize Inliear ( Do not use now as outlier normalization shoud be based on Inlier min-Max value)\n",
        "x_trainN, x_testN = GlobalnormalizeData(X_Inliear,X_outlier,b3,n)\n",
        "# Generate 2DCNN_AE\n",
        "cnn_ae_model_1 , modelAsDAG_1 = cnn_ae_2d(b3,n)\n",
        "modelAsDAG\n",
        "# Compile and Train the Model\n",
        "history_2dcnnae = modelTrain(x_trainN,e)\n",
        "# Plot accuracy graph\n",
        "plt_model_accuracy(history_2dcnnae)\n",
        "# Outlier prediction\n",
        "outlierPredict(x_trainN,x_testN)"
      ],
      "metadata": {
        "colab": {
          "base_uri": "https://localhost:8080/",
          "height": 1000
        },
        "id": "NzGxFKi1iMWW",
        "outputId": "18937e1b-ff99-434e-e021-5cb629d011b8"
      },
      "id": "NzGxFKi1iMWW",
      "execution_count": null,
      "outputs": [
        {
          "output_type": "stream",
          "name": "stdout",
          "text": [
            "2nd Window size: 4\n",
            "Model: \"model_66\"\n",
            "_________________________________________________________________\n",
            " Layer (type)                Output Shape              Param #   \n",
            "=================================================================\n",
            " machineSnape (InputLayer)   [(None, 16, 8, 1)]        0         \n",
            "                                                                 \n",
            " conv2d_136 (Conv2D)         (None, 14, 7, 16)         112       \n",
            "                                                                 \n",
            " conv2d_137 (Conv2D)         (None, 12, 6, 32)         3104      \n",
            "                                                                 \n",
            " flatten_15 (Flatten)        (None, 2304)              0         \n",
            "                                                                 \n",
            " dense_108 (Dense)           (None, 256)               590080    \n",
            "                                                                 \n",
            " dense_109 (Dense)           (None, 128)               32896     \n",
            "                                                                 \n",
            " dense_110 (Dense)           (None, 64)                8256      \n",
            "                                                                 \n",
            " dense_111 (Dense)           (None, 32)                2080      \n",
            "                                                                 \n",
            " dense_112 (Dense)           (None, 64)                2112      \n",
            "                                                                 \n",
            " dense_113 (Dense)           (None, 128)               8320      \n",
            "                                                                 \n",
            " dense_114 (Dense)           (None, 256)               33024     \n",
            "                                                                 \n",
            " dense_115 (Dense)           (None, 2304)              592128    \n",
            "                                                                 \n",
            " reshape_67 (Reshape)        (None, 12, 6, 32)         0         \n",
            "                                                                 \n",
            " conv2d_transpose_173 (Conv2  (None, 14, 7, 16)        3088      \n",
            " DTranspose)                                                     \n",
            "                                                                 \n",
            " conv2d_transpose_174 (Conv2  (None, 16, 8, 1)         97        \n",
            " DTranspose)                                                     \n",
            "                                                                 \n",
            " reshape_68 (Reshape)        (None, 16, 8)             0         \n",
            "                                                                 \n",
            "=================================================================\n",
            "Total params: 1,275,297\n",
            "Trainable params: 1,275,297\n",
            "Non-trainable params: 0\n",
            "_________________________________________________________________\n",
            "Epoch 1/50\n",
            "8/8 [==============================] - 3s 96ms/step - loss: 0.9952 - cosine_similarity: 0.0573 - val_loss: 0.9622 - val_cosine_similarity: 0.2263\n",
            "Epoch 2/50\n",
            "8/8 [==============================] - 0s 29ms/step - loss: 0.9156 - cosine_similarity: 0.2594 - val_loss: 0.7746 - val_cosine_similarity: 0.2123\n",
            "Epoch 3/50\n",
            "8/8 [==============================] - 0s 30ms/step - loss: 0.6966 - cosine_similarity: 0.3035 - val_loss: 0.6271 - val_cosine_similarity: 0.3528\n",
            "Epoch 4/50\n",
            "8/8 [==============================] - 0s 29ms/step - loss: 0.5842 - cosine_similarity: 0.3486 - val_loss: 0.5319 - val_cosine_similarity: 0.3714\n",
            "Epoch 5/50\n",
            "8/8 [==============================] - 0s 28ms/step - loss: 0.5222 - cosine_similarity: 0.3708 - val_loss: 0.4934 - val_cosine_similarity: 0.3791\n",
            "Epoch 6/50\n",
            "8/8 [==============================] - 0s 30ms/step - loss: 0.4917 - cosine_similarity: 0.3804 - val_loss: 0.4740 - val_cosine_similarity: 0.3833\n",
            "Epoch 7/50\n",
            "8/8 [==============================] - 0s 27ms/step - loss: 0.4769 - cosine_similarity: 0.3873 - val_loss: 0.4652 - val_cosine_similarity: 0.3859\n",
            "Epoch 8/50\n",
            "8/8 [==============================] - 0s 28ms/step - loss: 0.4704 - cosine_similarity: 0.3894 - val_loss: 0.4618 - val_cosine_similarity: 0.3869\n",
            "Epoch 9/50\n",
            "8/8 [==============================] - 0s 30ms/step - loss: 0.4676 - cosine_similarity: 0.3903 - val_loss: 0.4604 - val_cosine_similarity: 0.3873\n",
            "Epoch 10/50\n",
            "8/8 [==============================] - 0s 27ms/step - loss: 0.4660 - cosine_similarity: 0.3909 - val_loss: 0.4585 - val_cosine_similarity: 0.3880\n",
            "Epoch 11/50\n",
            "8/8 [==============================] - 0s 28ms/step - loss: 0.4647 - cosine_similarity: 0.3880 - val_loss: 0.4581 - val_cosine_similarity: 0.3883\n",
            "Epoch 12/50\n",
            "8/8 [==============================] - 0s 32ms/step - loss: 0.4641 - cosine_similarity: 0.3916 - val_loss: 0.4570 - val_cosine_similarity: 0.3885\n",
            "Epoch 13/50\n",
            "8/8 [==============================] - 0s 28ms/step - loss: 0.4634 - cosine_similarity: 0.3918 - val_loss: 0.4566 - val_cosine_similarity: 0.3886\n",
            "Epoch 14/50\n",
            "8/8 [==============================] - 0s 33ms/step - loss: 0.4630 - cosine_similarity: 0.3919 - val_loss: 0.4565 - val_cosine_similarity: 0.3887\n",
            "Epoch 15/50\n",
            "8/8 [==============================] - 0s 30ms/step - loss: 0.4628 - cosine_similarity: 0.3919 - val_loss: 0.4569 - val_cosine_similarity: 0.3886\n",
            "Epoch 16/50\n",
            "8/8 [==============================] - 0s 27ms/step - loss: 0.4628 - cosine_similarity: 0.3920 - val_loss: 0.4570 - val_cosine_similarity: 0.3886\n",
            "Epoch 17/50\n",
            "8/8 [==============================] - 0s 31ms/step - loss: 0.4629 - cosine_similarity: 0.3919 - val_loss: 0.4563 - val_cosine_similarity: 0.3888\n",
            "Epoch 18/50\n",
            "8/8 [==============================] - 0s 28ms/step - loss: 0.4626 - cosine_similarity: 0.3920 - val_loss: 0.4566 - val_cosine_similarity: 0.3887\n",
            "Epoch 19/50\n",
            "8/8 [==============================] - 0s 30ms/step - loss: 0.4627 - cosine_similarity: 0.3920 - val_loss: 0.4562 - val_cosine_similarity: 0.3888\n",
            "Epoch 20/50\n",
            "8/8 [==============================] - 0s 29ms/step - loss: 0.4629 - cosine_similarity: 0.3920 - val_loss: 0.4576 - val_cosine_similarity: 0.3885\n",
            "Epoch 21/50\n",
            "8/8 [==============================] - 0s 28ms/step - loss: 0.4633 - cosine_similarity: 0.3920 - val_loss: 0.4564 - val_cosine_similarity: 0.3887\n",
            "Epoch 22/50\n",
            "8/8 [==============================] - 0s 28ms/step - loss: 0.4628 - cosine_similarity: 0.3920 - val_loss: 0.4569 - val_cosine_similarity: 0.3886\n",
            "Epoch 23/50\n",
            "8/8 [==============================] - 0s 28ms/step - loss: 0.4628 - cosine_similarity: 0.3920 - val_loss: 0.4568 - val_cosine_similarity: 0.3886\n",
            "Epoch 24/50\n",
            "8/8 [==============================] - 0s 27ms/step - loss: 0.4626 - cosine_similarity: 0.3920 - val_loss: 0.4563 - val_cosine_similarity: 0.3887\n",
            "Epoch 25/50\n",
            "8/8 [==============================] - 0s 27ms/step - loss: 0.4628 - cosine_similarity: 0.3920 - val_loss: 0.4569 - val_cosine_similarity: 0.3886\n",
            "Epoch 26/50\n",
            "8/8 [==============================] - 0s 27ms/step - loss: 0.4630 - cosine_similarity: 0.3919 - val_loss: 0.4561 - val_cosine_similarity: 0.3888\n",
            "Epoch 27/50\n",
            "8/8 [==============================] - 0s 27ms/step - loss: 0.4629 - cosine_similarity: 0.3920 - val_loss: 0.4575 - val_cosine_similarity: 0.3884\n",
            "Epoch 28/50\n",
            "8/8 [==============================] - 0s 30ms/step - loss: 0.4629 - cosine_similarity: 0.3919 - val_loss: 0.4569 - val_cosine_similarity: 0.3885\n",
            "Epoch 29/50\n",
            "8/8 [==============================] - 0s 27ms/step - loss: 0.4629 - cosine_similarity: 0.3903 - val_loss: 0.4567 - val_cosine_similarity: 0.3887\n",
            "Epoch 30/50\n",
            "8/8 [==============================] - 0s 30ms/step - loss: 0.4628 - cosine_similarity: 0.3920 - val_loss: 0.4570 - val_cosine_similarity: 0.3886\n",
            "Epoch 31/50\n",
            "8/8 [==============================] - 0s 29ms/step - loss: 0.4627 - cosine_similarity: 0.3920 - val_loss: 0.4561 - val_cosine_similarity: 0.3888\n",
            "Epoch 32/50\n",
            "8/8 [==============================] - 0s 35ms/step - loss: 0.4631 - cosine_similarity: 0.3919 - val_loss: 0.4560 - val_cosine_similarity: 0.3889\n",
            "Epoch 33/50\n",
            "8/8 [==============================] - 0s 28ms/step - loss: 0.4627 - cosine_similarity: 0.3920 - val_loss: 0.4569 - val_cosine_similarity: 0.3887\n",
            "Epoch 34/50\n",
            "8/8 [==============================] - 0s 28ms/step - loss: 0.4629 - cosine_similarity: 0.3920 - val_loss: 0.4567 - val_cosine_similarity: 0.3888\n",
            "Epoch 35/50\n",
            "8/8 [==============================] - 0s 31ms/step - loss: 0.4628 - cosine_similarity: 0.3920 - val_loss: 0.4568 - val_cosine_similarity: 0.3887\n",
            "Epoch 36/50\n",
            "8/8 [==============================] - 0s 28ms/step - loss: 0.4626 - cosine_similarity: 0.3920 - val_loss: 0.4568 - val_cosine_similarity: 0.3886\n",
            "Epoch 37/50\n",
            "8/8 [==============================] - 0s 29ms/step - loss: 0.4626 - cosine_similarity: 0.3920 - val_loss: 0.4564 - val_cosine_similarity: 0.3887\n",
            "Epoch 38/50\n",
            "8/8 [==============================] - 0s 30ms/step - loss: 0.4627 - cosine_similarity: 0.3920 - val_loss: 0.4563 - val_cosine_similarity: 0.3888\n",
            "Epoch 39/50\n",
            "8/8 [==============================] - 0s 28ms/step - loss: 0.4627 - cosine_similarity: 0.3920 - val_loss: 0.4563 - val_cosine_similarity: 0.3887\n",
            "Epoch 40/50\n",
            "8/8 [==============================] - 0s 28ms/step - loss: 0.4625 - cosine_similarity: 0.3921 - val_loss: 0.4567 - val_cosine_similarity: 0.3886\n",
            "Epoch 41/50\n",
            "8/8 [==============================] - 0s 32ms/step - loss: 0.4625 - cosine_similarity: 0.3920 - val_loss: 0.4567 - val_cosine_similarity: 0.3886\n",
            "Epoch 42/50\n",
            "8/8 [==============================] - 0s 28ms/step - loss: 0.4627 - cosine_similarity: 0.3920 - val_loss: 0.4564 - val_cosine_similarity: 0.3887\n",
            "Epoch 43/50\n",
            "8/8 [==============================] - 0s 32ms/step - loss: 0.4628 - cosine_similarity: 0.3920 - val_loss: 0.4565 - val_cosine_similarity: 0.3887\n",
            "Epoch 44/50\n",
            "8/8 [==============================] - 0s 29ms/step - loss: 0.4626 - cosine_similarity: 0.3920 - val_loss: 0.4568 - val_cosine_similarity: 0.3886\n",
            "Epoch 45/50\n",
            "8/8 [==============================] - 0s 30ms/step - loss: 0.4627 - cosine_similarity: 0.3920 - val_loss: 0.4569 - val_cosine_similarity: 0.3886\n",
            "Epoch 46/50\n",
            "8/8 [==============================] - 0s 29ms/step - loss: 0.4626 - cosine_similarity: 0.3920 - val_loss: 0.4560 - val_cosine_similarity: 0.3888\n",
            "Epoch 47/50\n",
            "8/8 [==============================] - 0s 30ms/step - loss: 0.4627 - cosine_similarity: 0.3920 - val_loss: 0.4565 - val_cosine_similarity: 0.3887\n",
            "Epoch 48/50\n",
            "8/8 [==============================] - 0s 31ms/step - loss: 0.4629 - cosine_similarity: 0.3920 - val_loss: 0.4572 - val_cosine_similarity: 0.3885\n",
            "Epoch 49/50\n",
            "8/8 [==============================] - 0s 29ms/step - loss: 0.4629 - cosine_similarity: 0.3919 - val_loss: 0.4565 - val_cosine_similarity: 0.3887\n",
            "Epoch 50/50\n",
            "8/8 [==============================] - 0s 30ms/step - loss: 0.4629 - cosine_similarity: 0.3920 - val_loss: 0.4565 - val_cosine_similarity: 0.3888\n",
            "dict_keys(['loss', 'cosine_similarity', 'val_loss', 'val_cosine_similarity'])\n"
          ]
        },
        {
          "output_type": "display_data",
          "data": {
            "text/plain": [
              "<Figure size 1152x396 with 1 Axes>"
            ],
            "image/png": "[encoded data removed]"
          },
          "metadata": {
            "needs_background": "light"
          }
        },
        {
          "output_type": "display_data",
          "data": {
            "text/plain": [
              "<Figure size 1152x396 with 1 Axes>"
            ],
            "image/png": "[encoded data removed]"
          },
          "metadata": {
            "needs_background": "light"
          }
        },
        {
          "output_type": "stream",
          "name": "stdout",
          "text": [
            "Inlear Upper bound: 0.6117328\n",
            "Inlear Lower bound: 0.35839456\n",
            "Outlier Upper bound: 0.76417387\n",
            "Outlier Lower bound: 0.49479544\n",
            "No. of correctly identified outlier: 4\n"
          ]
        }
      ]
    },
    {
      "cell_type": "markdown",
      "source": [
        "## Optimization of 2DCNN-AE through Hypre Parameter optimization: Variable::model = m3_nn_model1 , Constant::(1st window size=30,2nd window:4)"
      ],
      "metadata": {
        "id": "iyFS_q0ZSCHq"
      },
      "id": "iyFS_q0ZSCHq"
    },
    {
      "cell_type": "code",
      "source": [
        "#Paraemter optimization through iterration\n",
        "# Iteration of b1 by keeping model and b2 fixed\n",
        "#################################### Main Normalized data#####################\n",
        "b1 = 30 # 1st stage window size of enrichment\n",
        "print(\"2nd Window size:\",b2)\n",
        "b2 = 4  # 2nd Stage window size of enrichment\n",
        "b3 =16\n",
        "n = 8\n",
        "e = 50 # no. of epochs\n",
        "# Load Raw TS data\n",
        "rawTS, mfList = rawDataload()\n",
        "# # Controled dataset for calculation check:\n",
        "# # slice the data based on failure point\n",
        "# sliceAt = 6 # No. of top failure points needs to include\n",
        "# mfList_c = mfList[:sliceAt]\n",
        "# rawTS_c = rawTS[0:mfList_c[-1]+1]\n",
        "# Convert Raw TS in Inlier and outlier as per window size\n",
        "x_train,y_train,x_test,y_test = TrainTestData(b1,rawTS,mfList)\n",
        "# Check for max possible window size\n",
        "maxWin = maxPossibleWin(mfList)\n",
        "# Enrich the TS data\n",
        "X_Inliear = main_fm(b1,b2,b3,n,x_train)\n",
        "X_outlier = main_fm(b1,b2,b3,n,x_test)\n",
        "# Normalize Inliear ( Do not use now as outlier normalization shoud be based on Inlier min-Max value)\n",
        "x_trainN, x_testN = GlobalnormalizeData(X_Inliear,X_outlier,b3,n)\n",
        "# Generate 2DCNN_AE\n",
        "cnn_ae_model_1 , modelAsDAG_1 = m3_nn_model1(b3,n)\n",
        "modelAsDAG\n",
        "# Compile and Train the Model\n",
        "history_nnae = m3_nn_model1_Train(x_trainN,e)\n",
        "# Plot accuracy graph\n",
        "plt_model_accuracy(history_nnae)\n",
        "# Outlier prediction\n",
        "outlierPredict(x_trainN,x_testN)"
      ],
      "metadata": {
        "id": "FhHx93TWSVlz",
        "outputId": "cdda8513-8791-4628-d94c-a84651d411ce",
        "colab": {
          "base_uri": "https://localhost:8080/",
          "height": 627
        }
      },
      "id": "FhHx93TWSVlz",
      "execution_count": null,
      "outputs": [
        {
          "output_type": "stream",
          "name": "stdout",
          "text": [
            "2nd Window size: 4\n",
            "Model: \"model_4\"\n",
            "_________________________________________________________________\n",
            " Layer (type)                Output Shape              Param #   \n",
            "=================================================================\n",
            " input_1 (InputLayer)        [(None, 128)]             0         \n",
            "                                                                 \n",
            " dense (Dense)               (None, 32)                4128      \n",
            "                                                                 \n",
            " dense_1 (Dense)             (None, 128)               4224      \n",
            "                                                                 \n",
            "=================================================================\n",
            "Total params: 8,352\n",
            "Trainable params: 8,352\n",
            "Non-trainable params: 0\n",
            "_________________________________________________________________\n"
          ]
        },
        {
          "output_type": "error",
          "ename": "AttributeError",
          "evalue": "ignored",
          "traceback": [
            "\u001b[0;31m---------------------------------------------------------------------------\u001b[0m",
            "\u001b[0;31mAttributeError\u001b[0m                            Traceback (most recent call last)",
            "\u001b[0;32m<ipython-input-47-1d6427af3454>\u001b[0m in \u001b[0;36m<module>\u001b[0;34m()\u001b[0m\n\u001b[1;32m     25\u001b[0m \u001b[0mx_trainN\u001b[0m\u001b[0;34m,\u001b[0m \u001b[0mx_testN\u001b[0m \u001b[0;34m=\u001b[0m \u001b[0mGlobalnormalizeData\u001b[0m\u001b[0;34m(\u001b[0m\u001b[0mX_Inliear\u001b[0m\u001b[0;34m,\u001b[0m\u001b[0mX_outlier\u001b[0m\u001b[0;34m,\u001b[0m\u001b[0mb3\u001b[0m\u001b[0;34m,\u001b[0m\u001b[0mn\u001b[0m\u001b[0;34m)\u001b[0m\u001b[0;34m\u001b[0m\u001b[0;34m\u001b[0m\u001b[0m\n\u001b[1;32m     26\u001b[0m \u001b[0;31m# Generate 2DCNN_AE\u001b[0m\u001b[0;34m\u001b[0m\u001b[0;34m\u001b[0m\u001b[0;34m\u001b[0m\u001b[0m\n\u001b[0;32m---> 27\u001b[0;31m \u001b[0mcnn_ae_model_1\u001b[0m \u001b[0;34m,\u001b[0m \u001b[0mmodelAsDAG_1\u001b[0m \u001b[0;34m=\u001b[0m \u001b[0mm3_nn_model1\u001b[0m\u001b[0;34m(\u001b[0m\u001b[0mb3\u001b[0m\u001b[0;34m,\u001b[0m\u001b[0mn\u001b[0m\u001b[0;34m)\u001b[0m\u001b[0;34m\u001b[0m\u001b[0;34m\u001b[0m\u001b[0m\n\u001b[0m\u001b[1;32m     28\u001b[0m \u001b[0mmodelAsDAG\u001b[0m\u001b[0;34m\u001b[0m\u001b[0;34m\u001b[0m\u001b[0m\n\u001b[1;32m     29\u001b[0m \u001b[0;31m# Compile and Train the Model\u001b[0m\u001b[0;34m\u001b[0m\u001b[0;34m\u001b[0m\u001b[0;34m\u001b[0m\u001b[0m\n",
            "\u001b[0;32m<ipython-input-24-34511a6e1e50>\u001b[0m in \u001b[0;36mm3_nn_model1\u001b[0;34m(b3, n)\u001b[0m\n\u001b[1;32m     18\u001b[0m   \u001b[0msumarry\u001b[0m \u001b[0;34m=\u001b[0m \u001b[0mnn_AE\u001b[0m\u001b[0;34m.\u001b[0m\u001b[0msummary\u001b[0m\u001b[0;34m(\u001b[0m\u001b[0;34m)\u001b[0m\u001b[0;34m\u001b[0m\u001b[0;34m\u001b[0m\u001b[0m\n\u001b[1;32m     19\u001b[0m   \u001b[0;31m#keras.utils.plot_model(cnn_ae_model, \"cnn_ae_model.png\", show_shapes=True)\u001b[0m\u001b[0;34m\u001b[0m\u001b[0;34m\u001b[0m\u001b[0;34m\u001b[0m\u001b[0m\n\u001b[0;32m---> 20\u001b[0;31m   \u001b[0;32mreturn\u001b[0m \u001b[0mnn_AE\u001b[0m \u001b[0;34m,\u001b[0m\u001b[0mkeras\u001b[0m\u001b[0;34m.\u001b[0m\u001b[0mutils\u001b[0m\u001b[0;34m.\u001b[0m\u001b[0mplot_model\u001b[0m\u001b[0;34m(\u001b[0m\u001b[0mnn_AE\u001b[0m\u001b[0;34m,\u001b[0m \u001b[0;34m\"m2_m3_nn_model1.png\"\u001b[0m\u001b[0;34m,\u001b[0m \u001b[0mshow_shapes\u001b[0m\u001b[0;34m=\u001b[0m\u001b[0;32mTrue\u001b[0m\u001b[0;34m)\u001b[0m\u001b[0;34m,\u001b[0m\u001b[0msummary\u001b[0m\u001b[0;34m\u001b[0m\u001b[0;34m\u001b[0m\u001b[0m\n\u001b[0m",
            "\u001b[0;31mAttributeError\u001b[0m: module 'keras.utils' has no attribute 'plot_model'"
          ]
        }
      ]
    },
    {
      "cell_type": "markdown",
      "id": "68dc6b4b",
      "metadata": {
        "id": "68dc6b4b"
      },
      "source": [
        "# 6. Normal classs recognition Model Creation and Prediction \n",
        "## 6.1 Create OneClassSVM model"
      ]
    },
    {
      "cell_type": "code",
      "execution_count": null,
      "id": "b89c8a06",
      "metadata": {
        "id": "b89c8a06"
      },
      "outputs": [],
      "source": [
        "from sklearn.svm import OneClassSVM\n",
        "# define outlier detection model\n",
        "model = OneClassSVM(gamma='scale', nu=0.1)\n",
        "#model = OneClassSVM(gamma='auto', nu=0.9,kernel='sigmoid')\n",
        "#model =OneClassSVM(kernel='poly', degree=2, gamma='scale', coef0=0.0, tol=0.001, nu=0.01, shrinking=True, cache_size=200, verbose=False, max_iter=- 1)\n",
        "# fit on majority class\n",
        "#trainX = trainX[trainy==0]\n",
        "model.fit(X_train_scaled)\n",
        "# detect outliers in the test set\n",
        "yhat_test = model.predict(X_test_scaled)\n",
        "#yhat_test = model.predict(X_train_scaled)"
      ]
    },
    {
      "cell_type": "markdown",
      "id": "a66ce57d",
      "metadata": {
        "id": "a66ce57d"
      },
      "source": [
        "## 6.2 Confusion matirx of  test data for analysis"
      ]
    },
    {
      "cell_type": "code",
      "execution_count": null,
      "id": "6b5a6282",
      "metadata": {
        "id": "6b5a6282"
      },
      "outputs": [],
      "source": [
        "#Check the classification model strength\n",
        "from sklearn.metrics import classification_report\n",
        "target_names = ['-1','1'] # Need to automate this step later\n",
        "y_test_labled = np.array(test_labels)\n",
        "#y_test_labled = np.array(train_labels)\n",
        "y_predict_ana = yhat_test.astype('int64')\n",
        "#print(classification_report(np.array(test_labels.astype('float32'))), test_predictions, target_names=target_names))\n",
        "print(classification_report(y_test_labled, y_predict_ana, target_names=target_names))"
      ]
    },
    {
      "cell_type": "markdown",
      "id": "cf451cb3",
      "metadata": {
        "id": "cf451cb3"
      },
      "source": [
        "## 6.3 Confusion matirx of  outlier data for analysis"
      ]
    },
    {
      "cell_type": "code",
      "execution_count": null,
      "id": "fa1611c3",
      "metadata": {
        "id": "fa1611c3"
      },
      "outputs": [],
      "source": [
        "#Check the classification model strength\n",
        "from sklearn.metrics import classification_report\n",
        "yhat_ana = model.predict(X_anomaly)\n",
        "target_names = ['-1','1'] # Need to automate this step later\n",
        "y_ana_labled = np.array(ana_labels)\n",
        "y_predict_ana = yhat_ana.astype('int64')\n",
        "#print(classification_report(np.array(test_labels.astype('float32'))), test_predictions, target_names=target_names))\n",
        "print(classification_report(y_ana_labled, y_predict_ana, target_names=target_names))"
      ]
    },
    {
      "cell_type": "code",
      "execution_count": null,
      "id": "9fc57d1c",
      "metadata": {
        "id": "9fc57d1c"
      },
      "outputs": [],
      "source": [
        ""
      ]
    }
  ],
  "metadata": {
    "kernelspec": {
      "display_name": "Python 3 (ipykernel)",
      "language": "python",
      "name": "python3"
    },
    "language_info": {
      "codemirror_mode": {
        "name": "ipython",
        "version": 3
      },
      "file_extension": ".py",
      "mimetype": "text/x-python",
      "name": "python",
      "nbconvert_exporter": "python",
      "pygments_lexer": "ipython3",
      "version": "3.8.12"
    },
    "colab": {
      "name": " OutlierDetection_Feature_enrichment_analysis_v1.0.ipynb",
      "provenance": [],
      "collapsed_sections": [
        "e10e8d91",
        "fac342e3",
        "Rl0kKo92cUIB",
        "ZNQGmVcATbG9",
        "pJoikgM4T3Yy",
        "1UTqptZBKUN2",
        "kRcTD01HUTXL",
        "GIoNNUU4ioxU",
        "bgLSMYB8xv3-",
        "U2rW1ZO_x3Yv",
        "OakN-hUYivXv",
        "TWfX6RyQEyJS",
        "Zmu_pvivWRq6",
        "fuU5FswcYzif",
        "eRkxOi_-cI8Y",
        "n9J703gsfzeF",
        "Q4DX4hIViAWW",
        "iyFS_q0ZSCHq",
        "68dc6b4b",
        "a66ce57d",
        "cf451cb3"
      ],
      "toc_visible": true,
      "include_colab_link": true
    }
  },
  "nbformat": 4,
  "nbformat_minor": 5
}