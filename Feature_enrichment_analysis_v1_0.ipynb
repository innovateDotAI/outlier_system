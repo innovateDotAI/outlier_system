{
  "cells": [
    {
      "cell_type": "markdown",
      "metadata": {
        "id": "view-in-github",
        "colab_type": "text"
      },
      "source": [
        "<a href=\"https://colab.research.google.com/github/innovateDotAI/outlier_system/blob/main/Feature_enrichment_analysis_v1_0.ipynb\" target=\"_parent\"><img src=\"https://colab.research.google.com/assets/colab-badge.svg\" alt=\"Open In Colab\"/></a>"
      ]
    },
    {
      "cell_type": "markdown",
      "id": "ff63036a",
      "metadata": {
        "id": "ff63036a"
      },
      "source": [
        "For details on SVM algorithm please reffer to [Support Vector Machines for Machine Learning](https://machinelearningmastery.com/support-vector-machines-for-machine-learning/)\n",
        "\n",
        "Additoonal refrencees used:\n",
        "[One-Class Classification Algorithms for Imbalanced Datasets](https://machinelearningmastery.com/one-class-classification-algorithms/)"
      ]
    },
    {
      "cell_type": "markdown",
      "id": "e10e8d91",
      "metadata": {
        "id": "e10e8d91"
      },
      "source": [
        "# 1. Load the Library"
      ]
    },
    {
      "cell_type": "code",
      "execution_count": 1,
      "id": "2acc4890",
      "metadata": {
        "id": "2acc4890"
      },
      "outputs": [],
      "source": [
        "import matplotlib.pyplot as plt\n",
        "import numpy as np\n",
        "import pandas as pd\n",
        "import seaborn as sns\n",
        "np.set_printoptions(precision=3, suppress=True)\n",
        "# Set of libraries\n",
        "# Test save for new version"
      ]
    },
    {
      "cell_type": "markdown",
      "id": "fac342e3",
      "metadata": {
        "id": "fac342e3"
      },
      "source": [
        "# 2. Load the data and One Hot Encoding"
      ]
    },
    {
      "cell_type": "code",
      "execution_count": 2,
      "id": "d4ea9083",
      "metadata": {
        "id": "d4ea9083"
      },
      "outputs": [],
      "source": [
        "def rawDataload_TWF():\n",
        "# Load data from UCI and retrun TS as pandas and list of indexes where failure happends in mfList\n",
        "  #Data loading and keeping one type of failure\n",
        "  #First download and import the dataset using pandas:\n",
        "  import pandas as pd\n",
        "  url = 'https://archive.ics.uci.edu/ml/machine-learning-databases/00601/ai4i2020.csv'\n",
        "  #column_names = ['MPG', 'Cylinders', 'Displacement', 'Horsepower', 'Weight',\n",
        "                  #'Acceleration', 'Model Year', 'Origin']\n",
        "  col_name = ['UID','PID','Type','airTemp','processTemp','rotationalSpeed','torque','toolwear','machineFailure','TWF','HDF','PWF','OSF','RNF']\n",
        "  raw_dataset = pd.read_csv(url, names=col_name,\n",
        "                            na_values='?', comment='\\t',\n",
        "                            sep=',', skipinitialspace=True,header=0)\n",
        "  #Drop those rows which will not be part of feature vector:\n",
        "  rawData = raw_dataset.copy()\n",
        "  #rawData.drop(['UID','PID','TWF','HDF','PWF','OSF','RNF'], axis = 1, inplace = True)\n",
        "  rawData.drop(['UID','PID','machineFailure','HDF','OSF','PWF','RNF'], axis = 1, inplace = True)\n",
        "  rawData.rename(columns={'TWF': 'machineFailure'},inplace=True, errors='raise')\n",
        "  # mark inliers 1, outliers -1\n",
        "  #rawSVMdata = rawData.copy()\n",
        "  # rawData['machineFailure' == '1'] = -1\n",
        "  # rawData['machineFailure' == '0'] = 1\n",
        "  # rawData\n",
        "  rawData.loc[rawData[\"machineFailure\"] == 1, \"machineFailure\"] = -1\n",
        "  rawData.loc[rawData[\"machineFailure\"] == 0, \"machineFailure\"] = 1\n",
        "  # One Hot Encoding of category datatype\n",
        "  #raw_dataset\n",
        "  # # generate binary values using get_dummies\n",
        "  raw_dataset_oneHot = pd.get_dummies(rawData, columns=[\"Type\"], prefix=[\"Type_is\"] )\n",
        "  rawTS = raw_dataset_oneHot.copy()\n",
        "  mfList = rawTS.index[rawTS['machineFailure'] == -1].tolist()\n",
        "  return rawTS,mfList"
      ]
    },
    {
      "cell_type": "code",
      "source": [
        "def rawDataload_HDF():\n",
        "# Load data from UCI and retrun TS as pandas and list of indexes where failure happends in mfList\n",
        "  #Data loading and keeping one type of failure\n",
        "  #First download and import the dataset using pandas:\n",
        "  import pandas as pd\n",
        "  url = 'https://archive.ics.uci.edu/ml/machine-learning-databases/00601/ai4i2020.csv'\n",
        "  #column_names = ['MPG', 'Cylinders', 'Displacement', 'Horsepower', 'Weight',\n",
        "                  #'Acceleration', 'Model Year', 'Origin']\n",
        "  col_name = ['UID','PID','Type','airTemp','processTemp','rotationalSpeed','torque','toolwear','machineFailure','TWF','HDF','PWF','OSF','RNF']\n",
        "  raw_dataset = pd.read_csv(url, names=col_name,\n",
        "                            na_values='?', comment='\\t',\n",
        "                            sep=',', skipinitialspace=True,header=0)\n",
        "  #Drop those rows which will not be part of feature vector:\n",
        "  rawData = raw_dataset.copy()\n",
        "  #rawData.drop(['UID','PID','TWF','HDF','PWF','OSF','RNF'], axis = 1, inplace = True)\n",
        "  rawData.drop(['UID','PID','machineFailure','TWF','OSF','PWF','RNF','rotationalSpeed','torque','toolwear','Type'], axis = 1, inplace = True)\n",
        "  rawData.rename(columns={'HDF': 'machineFailure'},inplace=True, errors='raise')\n",
        "  # mark inliers 1, outliers -1\n",
        "  #rawSVMdata = rawData.copy()\n",
        "  # rawData['machineFailure' == '1'] = -1\n",
        "  # rawData['machineFailure' == '0'] = 1\n",
        "  # rawData\n",
        "  rawData.loc[rawData[\"machineFailure\"] == 1, \"machineFailure\"] = -1\n",
        "  rawData.loc[rawData[\"machineFailure\"] == 0, \"machineFailure\"] = 1\n",
        "  # One Hot Encoding of category datatype\n",
        "  #raw_dataset\n",
        "  # # # generate binary values using get_dummies\n",
        "  # raw_dataset_oneHot = pd.get_dummies(rawData, columns=[\"Type\"], prefix=[\"Type_is\"] )\n",
        "  rawTS = rawData.copy()\n",
        "  mfList = rawTS.index[rawTS['machineFailure'] == -1].tolist()\n",
        "  return rawTS,mfList"
      ],
      "metadata": {
        "id": "KfcOYdTiW2Dz"
      },
      "id": "KfcOYdTiW2Dz",
      "execution_count": 3,
      "outputs": []
    },
    {
      "cell_type": "markdown",
      "id": "9e64ae4a",
      "metadata": {
        "id": "9e64ae4a"
      },
      "source": [
        "No missing value found"
      ]
    },
    {
      "cell_type": "markdown",
      "source": [
        "# Check Maximum possible windows size"
      ],
      "metadata": {
        "id": "Rl0kKo92cUIB"
      },
      "id": "Rl0kKo92cUIB"
    },
    {
      "cell_type": "code",
      "source": [
        "def maxPossibleWin(mfList):\n",
        "  key =1\n",
        "  for w in range(2,100,2):\n",
        "    b1 = w\n",
        "    len(mfList)\n",
        "    for i in range(len(mfList)):\n",
        "      i=i+1\n",
        "      try:\n",
        "        diff = mfList[i] - mfList[i-1]\n",
        "        if diff < b1:\n",
        "          key = -1\n",
        "          #print(\"Index values: \", mfList[i] , mfList[i-1])\n",
        "          #print(False)\n",
        "          break\n",
        "      except:\n",
        "        pass\n",
        "    if key == -1:\n",
        "      #print(\"max possible window size:\",w-2)\n",
        "      return w-2"
      ],
      "metadata": {
        "id": "N3Q2Er_TPt3f"
      },
      "id": "N3Q2Er_TPt3f",
      "execution_count": 4,
      "outputs": []
    },
    {
      "cell_type": "markdown",
      "source": [
        "# Train and Test data creation Function Module"
      ],
      "metadata": {
        "id": "ZNQGmVcATbG9"
      },
      "id": "ZNQGmVcATbG9"
    },
    {
      "cell_type": "code",
      "source": [
        "def TrainTestData(b1,rawTS,mfList):\n",
        "  raw_np = rawTS.values\n",
        "  #print(\"Input shape of rawTS:\",raw_np.shape)\n",
        "  #print(\"Input mfList values:\",mfList)\n",
        "  X_test = np.empty((0,raw_np.shape[1]), np.float32)\n",
        "  # Training dataset creation based on windows size\n",
        "  # initialize outlier data:\n",
        "  for i in mfList:\n",
        "    X_test = np.append(X_test, raw_np[i-b1+1:i+1], axis=0)\n",
        "  #print(X_test.shape)\n",
        "  X_train = np.copy(raw_np)\n",
        "  indexList = []\n",
        "  for i in mfList:\n",
        "    #print(\"Index value i:\",i)\n",
        "    tmp = [i for i in range(i-b1+1,i+1)]\n",
        "    X= [indexList.append(j) for j in tmp]\n",
        "  \n",
        "  #print(\"Index List:\",indexList)\n",
        "  X_train = np.delete(X_train, indexList, axis=0)\n",
        "  #print(\"Shape of X_train after deletion:\",X_train.shape)\n",
        "  #Split features from labels\n",
        "  #The pop() method removes the specified column from the DataFrame. The pop() method returns the removed columns as a Pandas Series object.\n",
        "  Y_train = np.copy(X_train)\n",
        "  Y_test = np.copy(X_test)\n",
        "  XPopIndex = [5] # Lable value which needs to remove from matrix to generate feature \n",
        "  YPopIndex = [0,1,2,3,4,6,7,8] # All featrues index value which needs to be removed.\n",
        "  X_train = np.delete(X_train, XPopIndex, axis=1)\n",
        "  X_test = np.delete(X_test, XPopIndex, axis=1)\n",
        "  Y_train = np.delete(Y_train, YPopIndex, axis=1) # Removing label from Traning_set data\n",
        "  Y_test = np.delete(Y_test, YPopIndex, axis=1)\n",
        "  return X_train ,Y_train, X_test,Y_test"
      ],
      "metadata": {
        "id": "YgAK315VpxUJ"
      },
      "id": "YgAK315VpxUJ",
      "execution_count": 5,
      "outputs": []
    },
    {
      "cell_type": "code",
      "source": [
        "def TrainTestData_HDF(b1,rawTS,mfList):\n",
        "  raw_np = rawTS.values\n",
        "  #print(\"Input shape of rawTS:\",raw_np.shape)\n",
        "  #print(\"Input mfList values:\",mfList)\n",
        "  X_test = np.empty((0,raw_np.shape[1]), np.float32)\n",
        "  # Training dataset creation based on windows size\n",
        "  # initialize outlier data:\n",
        "  for i in mfList:\n",
        "    X_test = np.append(X_test, raw_np[i-b1+1:i+1], axis=0)\n",
        "  #print(X_test.shape)\n",
        "  X_train = np.copy(raw_np)\n",
        "  indexList = []\n",
        "  for i in mfList:\n",
        "    #print(\"Index value i:\",i)\n",
        "    tmp = [i for i in range(i-b1+1,i+1)]\n",
        "    X= [indexList.append(j) for j in tmp]\n",
        "  \n",
        "  #print(\"Index List:\",indexList)\n",
        "  X_train = np.delete(X_train, indexList, axis=0)\n",
        "  #print(\"Shape of X_train after deletion:\",X_train.shape)\n",
        "  #Split features from labels\n",
        "  #The pop() method removes the specified column from the DataFrame. The pop() method returns the removed columns as a Pandas Series object.\n",
        "  Y_train = np.copy(X_train)\n",
        "  Y_test = np.copy(X_test)\n",
        "  XPopIndex = [0] # Lable value which needs to remove from matrix to generate feature \n",
        "  YPopIndex = [1] # All featrues index value which needs to be removed.\n",
        "  X_train = np.delete(X_train, XPopIndex, axis=1)\n",
        "  X_test = np.delete(X_test, XPopIndex, axis=1)\n",
        "  Y_train = np.delete(Y_train, YPopIndex, axis=1) # Removing label from Traning_set data\n",
        "  Y_test = np.delete(Y_test, YPopIndex, axis=1)\n",
        "  return X_train ,Y_train, X_test,Y_test"
      ],
      "metadata": {
        "id": "oFPqaH74iDPh"
      },
      "id": "oFPqaH74iDPh",
      "execution_count": 6,
      "outputs": []
    },
    {
      "cell_type": "markdown",
      "source": [
        "# Feature Enrichment Function Module"
      ],
      "metadata": {
        "id": "VhPL6fn6a1i2"
      },
      "id": "VhPL6fn6a1i2"
    },
    {
      "cell_type": "code",
      "source": [
        "### Function module development for feature entrichment\n",
        "import numpy as np\n",
        "def TS_window(b,n,TS_C):\n",
        "  # Function Module to convet TS into Sliding wondows based TS\n",
        "  # b = window size\n",
        "  #n = number of features in given TS data\n",
        "  # TS_C = Normalized TS data\n",
        "\n",
        "  i = 0\n",
        "  TS_G = np.empty((0,b,n), np.float32)  \n",
        "  for w in range(0,len(TS_C),int(b/2)):\n",
        "    #count+=1\n",
        "    #print(\"windows\")  \n",
        "    win = np.empty((0,n), np.float32)\n",
        "    for i in range(b):\n",
        "      try:\n",
        "      #print(\"feature vector\",w+i,\"Values are:\",X_train_scaled[w+i])\n",
        "        win = np.append(win, np.array([TS_C[w+i]]), axis=0)\n",
        "      except:\n",
        "        continue\n",
        "    if win.shape[0] == b:\n",
        "      TS_G = np.append(TS_G, np.array([win]), axis=0)\n",
        "  return TS_G\n",
        "def nor_don(TS_G):\n",
        "  #Stage 2: Convert TS_G into GNOR\n",
        "  GNOR = np.empty((0,n), np.float32)\n",
        "  for ti in TS_G:\n",
        "    #print(ti.shape)\n",
        "    nor = np.sqrt(np.sum(np.square(ti), axis=0))\n",
        "    GNOR = np.append(GNOR, np.array([nor]), axis=0)\n",
        "  #print(\"GNOR Shape:\",GNOR.shape)\n",
        "  ## Stage2: Convert TS_G into GDON\n",
        "  GDON = np.empty((0,n), np.float32)\n",
        "  for di in range(len(GNOR)):\n",
        "    if int(GDON.shape[0]) != 0:\n",
        "      don = GNOR[di]-GNOR[di-1]\n",
        "      GDON = np.append(GDON, np.array([don]), axis=0)\n",
        "    else:\n",
        "      #GDON = np.array([[0,0,0,0,0,0,0,0]])\n",
        "      GDON = np.array([np.zeros(n)])\n",
        "  return GNOR , GDON\n",
        "# Function Module to convert NOR and DON metrices to e-statistics of 8 rows\n",
        "def estates(n,TS_2):\n",
        "  b =8 # no. of rows for each e-states\n",
        "  ts_estate = np.empty((0,b,n), np.float32)\n",
        "  for h in TS_2:\n",
        "    win_h = np.empty((0,n), np.float32)\n",
        "    #mean = np.mean(h,axis = 0)\n",
        "    win_h = np.append(win_h, np.array([np.mean(h,axis = 0)]), axis=0)\n",
        "    win_h = np.append(win_h, np.array([np.amin(h,axis = 0)]), axis=0)\n",
        "    win_h = np.append(win_h, np.array([np.amax(h,axis = 0)]), axis=0)\n",
        "    win_h = np.append(win_h, np.array([np.quantile(h,0.25,axis = 0)]), axis=0)\n",
        "    win_h = np.append(win_h, np.array([np.quantile(h,0.50,axis = 0)]), axis=0)\n",
        "    win_h = np.append(win_h, np.array([np.quantile(h,0.75,axis = 0)]), axis=0)\n",
        "    win_h = np.append(win_h, np.array([np.ptp(h,axis = 0)]), axis=0)\n",
        "    win_h = np.append(win_h, np.array([np.std(h,axis = 0)]), axis=0)\n",
        "    ts_estate = np.append(ts_estate, np.array([win_h]), axis=0)\n",
        "  return ts_estate\n",
        "def merge_don_nor(b,HNOR,HDON):\n",
        "  # Mearger of NOR and DON e-statistics to one matrix\n",
        "  #b =16 # no. of rows for mearged e-states (NOR+DON estates)\n",
        "  n = HNOR.shape[2] # Number of features\n",
        "  TS_H = np.empty((0,b,n), np.float32)\n",
        "  for m in range(len(HNOR)):\n",
        "    h_tmp = np.empty((0,n), np.float32)\n",
        "    for hi in HNOR[m]:\n",
        "      h_tmp = np.append(h_tmp, np.array([hi]), axis=0)\n",
        "    for hd in HDON[m]:\n",
        "      h_tmp = np.append(h_tmp, np.array([hd]), axis=0)\n",
        "    #h_tmp = np.append(h_tmp, np.array([HDON[m]]), axis=0)\n",
        "    TS_H = np.append(TS_H, np.array([h_tmp]), axis=0)\n",
        "  return TS_H\n",
        "\n",
        "def main_fm(b1,b2,b3,n,TS_C):\n",
        "  # b1 is 1st stage window size\n",
        "  #b2 is 3rd stage window size\n",
        "  #b3 is no. of estate rows for NOR and DON\n",
        "  #n = number of features in input TimeSeries\n",
        "  #TS_C is normalized raw time series \n",
        "  # Stage-1\n",
        "  TS_G = TS_window(b1,n,TS_C)\n",
        "  #print(\"stage1 sucness\")\n",
        "  # Stage-2\n",
        "  GNOR , GDON = nor_don(TS_G)\n",
        "  #print(\"stage2 sucness\")\n",
        "  # Sliding window formation for 3rd Stage for GNOR\n",
        "  b2 = 4 # Windows size\n",
        "  n = GNOR.shape[1] # Number of features\n",
        "  HGNOR = TS_window(b2,n,GNOR)\n",
        "  # Sliding window formation for 3rd Stage for GDON\n",
        "  n = GDON.shape[1] # Number of features\n",
        "  HGDON = TS_window(b2,n,GDON)\n",
        "  # Stage-3: Convert HNOR to e-state matrix\n",
        "  n = HGNOR.shape[2]\n",
        "  HNOR = estates(n,HGNOR)\n",
        "  # Convert HDON to e-state matrix\n",
        "  n = HGDON.shape[2]\n",
        "  HDON = estates(n,HGDON)\n",
        "  #print(\"stage3 sucness\")\n",
        "  TS_H = merge_don_nor(b3,HNOR,HDON)\n",
        "  return TS_H\n"
      ],
      "metadata": {
        "id": "8gUUfMnWuqFA"
      },
      "id": "8gUUfMnWuqFA",
      "execution_count": 7,
      "outputs": []
    },
    {
      "cell_type": "markdown",
      "source": [
        "# Model accuracy and Loss ploting function module"
      ],
      "metadata": {
        "id": "pJoikgM4T3Yy"
      },
      "id": "pJoikgM4T3Yy"
    },
    {
      "cell_type": "code",
      "source": [
        "def plt_model_accuracy(history):\n",
        "  # Plot the graphs\n",
        "  import matplotlib.pyplot as plt\n",
        "  # Increase size of plot in jupyter\n",
        "\n",
        "  plt.rcParams[\"figure.figsize\"] = (16,5.5)  \n",
        "  # list all data in history\n",
        "  print(history.history.keys())\n",
        "  # summarize history for accuracy\n",
        "  acc = list(history.history.keys())[1]\n",
        "  val_acc = list(history_2dcnnae.history.keys())[3]\n",
        "  loss = list(history_2dcnnae.history.keys())[0]\n",
        "  val_loss = list(history_2dcnnae.history.keys())[2]\n",
        "  plt.plot(history.history[acc])\n",
        "  plt.plot(history.history[val_acc])\n",
        "  plt.title('recreation accuracy')\n",
        "  plt.ylabel('accuracy')\n",
        "  plt.xlabel('epoch')\n",
        "  plt.legend(['train', 'test'], loc='upper left')\n",
        "  plt.show()\n",
        "  # summarize history for loss\n",
        "  plt.plot(history.history[loss])\n",
        "  plt.plot(history.history[val_loss])\n",
        "  plt.title('recreation loss')\n",
        "  plt.ylabel('loss')\n",
        "  plt.xlabel('epoch')\n",
        "  plt.legend(['train', 'test'], loc='upper left')\n",
        "  plt.show()"
      ],
      "metadata": {
        "id": "YsH5Mo2xIaew"
      },
      "id": "YsH5Mo2xIaew",
      "execution_count": 8,
      "outputs": []
    },
    {
      "cell_type": "code",
      "source": [
        ""
      ],
      "metadata": {
        "id": "DSSg77sPKS7c"
      },
      "id": "DSSg77sPKS7c",
      "execution_count": 8,
      "outputs": []
    },
    {
      "cell_type": "markdown",
      "source": [
        "# Data normalization(Z-score) FM"
      ],
      "metadata": {
        "id": "1UTqptZBKUN2"
      },
      "id": "1UTqptZBKUN2"
    },
    {
      "cell_type": "code",
      "source": [
        "def normalizeData(x_in,x_out,b3,n):\n",
        "  # x_train and x_test is dataset after enrichment\n",
        "  # Normalize after enrichment X_Inliear input data (  Z-score)\n",
        "  XTrain = np.empty((0,b3,n), np.float32)\n",
        "  for i in x_in:\n",
        "    #print(\"Value of i:\",i)\n",
        "    mean = np.mean(i,axis = 0)\n",
        "    std = np.std(i,axis = 0)\n",
        "    for s in range(len(std)):\n",
        "      if std[s] <=0:\n",
        "        std[s] = 0.001\n",
        "    #print(\"Value of std:\",(std))\n",
        "    norm = (i-mean)/std\n",
        "    #print(\"Value of min,max,norm:\",min,max,norm)\n",
        "    #print('Min',min,'MAx',max,'norm',norm)\n",
        "    XTrain = np.append(XTrain, np.array([norm]), axis=0)\n",
        "  #Normalize X_outlier after enrichment( Min Max normalization)\n",
        "  XTest = np.empty((0,b3,n), np.float32)\n",
        "  for i in x_out:\n",
        "    norm1 = (i-mean)/std\n",
        "    XTest = np.append(XTest, np.array([norm1]), axis=0)\n",
        "  return XTrain,XTest\n",
        "  "
      ],
      "metadata": {
        "id": "7Eig9pepnISW"
      },
      "id": "7Eig9pepnISW",
      "execution_count": 9,
      "outputs": []
    },
    {
      "cell_type": "code",
      "source": [
        "def GlobalnormalizeData(x_in,x_out,b3,n):\n",
        "  # x_train and x_test is dataset after enrichment\n",
        "  # Normalize after enrichment X_Inliear input data (Z-score)\n",
        "  x_in_G = x_in.reshape(b3*len(x_in),n)\n",
        "  mean = np.mean(x_in_G,axis=0)\n",
        "  std = np.std(x_in_G,axis=0)\n",
        "  for s in range(len(std)):\n",
        "    if std[s] <=0:\n",
        "      std[s] = 0.001\n",
        "  XTrain = np.empty((0,b3,n), np.float32)\n",
        "  for i in x_in:\n",
        "    norm = (i-mean)/std\n",
        "    XTrain = np.append(XTrain, np.array([norm]), axis=0)\n",
        "  #Normalize X_outlier after enrichment( Min Max normalization)\n",
        "  XTest = np.empty((0,b3,n), np.float32)\n",
        "  for i in x_out:\n",
        "    norm1 = (i-mean)/std\n",
        "    XTest = np.append(XTest, np.array([norm1]), axis=0)\n",
        "  return XTrain,XTest"
      ],
      "metadata": {
        "id": "p6V8jGP3XK1g"
      },
      "id": "p6V8jGP3XK1g",
      "execution_count": 10,
      "outputs": []
    },
    {
      "cell_type": "markdown",
      "source": [
        "## Model Generation FM"
      ],
      "metadata": {
        "id": "kRcTD01HUTXL"
      },
      "id": "kRcTD01HUTXL"
    },
    {
      "cell_type": "code",
      "source": [
        "def m4_2dcnnae_single_conv(b3,n,train,e):\n",
        "  # single layerd CNN AE\n",
        "  import tensorflow as tf\n",
        "  from tensorflow import keras\n",
        "  from keras import layers\n",
        "  from tensorflow.keras import regularizers\n",
        "  input = keras.Input(shape=(b3,n,1),name='Conv_deconv_singleLayer')\n",
        "  encoder = layers.Conv2D(b3/2,kernel_size=(2,1),kernel_regularizer=regularizers.L1(0.01))(input)\n",
        "  decoder = layers.Conv2DTranspose(1,kernel_size=(2,1))(encoder)\n",
        "  model = keras.Model(input,decoder)\n",
        "  model.compile(optimizer='adam',loss='mean_squared_error',metrics=['mean_squared_error'])\n",
        "  history = model.fit(train,train,\n",
        "                    epochs = e,\n",
        "                    validation_split = 0.2,\n",
        "                    shuffle=True\n",
        "\n",
        "                    )\n",
        "    \n",
        "  return model,keras.utils.plot_model(model, \"m4_2dcnnae_single_conv.png\", show_shapes=True),history"
      ],
      "metadata": {
        "id": "hLoO9Yxxw7yn"
      },
      "id": "hLoO9Yxxw7yn",
      "execution_count": 11,
      "outputs": []
    },
    {
      "cell_type": "code",
      "source": [
        "def m1_cnn_ae_2d(b3,n):\n",
        "  # Generate AE and retrun the model\n",
        "  # 2DCNN_AE model construction\n",
        "  import tensorflow as tf\n",
        "  from tensorflow import keras\n",
        "  from keras import layers\n",
        "  encoder_input = keras.Input(shape=(b3,n,1), name=\"img\")\n",
        "  x = layers.Conv2D(16,kernel_size=(3,2),activation='relu')(encoder_input)\n",
        "  x = layers.Conv2D(32,kernel_size=(3,2),activation='relu')(x)\n",
        "  encoder_output = layers.MaxPooling2D(pool_size=(2,2))(x)\n",
        "  # x = layers.Flatten()(x)\n",
        "  # x = layers.Dense(256,activation='relu')(x)\n",
        "  # x = layers.Dense(128,activation='relu')(x)\n",
        "  #encoder_output = layers.Dense(64,activation='relu')(x)\n",
        "  #encoder_output = layers.Dense(32,activation='softmax')(x)\n",
        "  #y = layers.Dense(64,activation='relu')(encoder_output)\n",
        "  # y = layers.Dense(128,activation='relu')(encoder_output)\n",
        "  # y = layers.Dense(256,activation='relu')(y)\n",
        "  # y = layers.Dense(576,activation='relu')(y)\n",
        "  # y = layers.Reshape((6,3,32))(y)\n",
        "  y = layers.Conv2DTranspose(32, kernel_size = (7,4), activation=\"relu\")(encoder_output)\n",
        "  y = layers.Conv2DTranspose(16, kernel_size = (3,2), activation=\"relu\")(y)\n",
        "  y = layers.Conv2DTranspose(1, kernel_size = (3,2), activation=\"relu\")(y)\n",
        "  decoder_output = layers.Reshape((b3,n))(y)\n",
        "  cnn_ae_model=keras.Model(encoder_input,decoder_output)\n",
        "  #cnn_ae_model.summary()\n",
        "  #keras.utils.plot_model(cnn_ae_model, \"cnn_ae_model.png\", show_shapes=True)\n",
        "  return cnn_ae_model ,keras.utils.plot_model(cnn_ae_model, \"m1_cnn_ae_model.png\", show_shapes=True)"
      ],
      "metadata": {
        "id": "pL-j1ib7QZMH"
      },
      "id": "pL-j1ib7QZMH",
      "execution_count": 12,
      "outputs": []
    },
    {
      "cell_type": "code",
      "source": [
        "def m2_cnn_ae_2d(b3,n):\n",
        "  # Generate AE and retrun the model\n",
        "  # 2DCNN_AE model construction\n",
        "  import tensorflow as tf\n",
        "  from tensorflow import keras\n",
        "  from keras import layers\n",
        "  encoder_input = keras.Input(shape=(b3,n,1), name=\"machineSnape\")\n",
        "  x = layers.Conv2D(16,kernel_size=(3,2),activation='relu')(encoder_input)\n",
        "  x = layers.Conv2D(32,kernel_size=(3,2),activation='relu')(x)\n",
        "  X = layers.MaxPooling2D(pool_size=(2,2))(x)\n",
        "  x = layers.Flatten()(x)\n",
        "  x = layers.Dense(256,activation='relu')(x)\n",
        "  x = layers.Dense(128,activation='relu')(x)\n",
        "  x = layers.Dense(64,activation='relu')(x)\n",
        "  encoder_output = layers.Dense(32,activation='softmax')(x)\n",
        "  y = layers.Dense(64,activation='relu')(encoder_output)\n",
        "  y = layers.Dense(128,activation='relu')(y)\n",
        "  y = layers.Dense(256,activation='relu')(y)\n",
        "  y = layers.Dense(2304,activation='relu')(y)\n",
        "  y = layers.Reshape((12,6,32))(y)\n",
        "  y = layers.Conv2DTranspose(16, kernel_size = (3,2), activation=\"relu\")(y)\n",
        "  y = layers.Conv2DTranspose(1, kernel_size = (3,2), activation=\"relu\")(y)\n",
        "  decoder_output = layers.Reshape((b3,n))(y)\n",
        "  cnn_ae_model=keras.Model(encoder_input,decoder_output)\n",
        "  sumarry = cnn_ae_model.summary()\n",
        "  #keras.utils.plot_model(cnn_ae_model, \"cnn_ae_model.png\", show_shapes=True)\n",
        "  return cnn_ae_model ,keras.utils.plot_model(cnn_ae_model, \"m2_cnn_ae_model.png\", show_shapes=True),summary"
      ],
      "metadata": {
        "id": "NruQZ1sytfT5"
      },
      "id": "NruQZ1sytfT5",
      "execution_count": 13,
      "outputs": []
    },
    {
      "cell_type": "code",
      "source": [
        "def  m3_nn_model1(b3,n):\n",
        "  import keras\n",
        "  from keras import layers\n",
        "\n",
        "  # This is the size of our encoded representations\n",
        "  encoding_dim = 32  # 32 floats -> compression of factor 24.5, assuming the input is 784 floats\n",
        "  in_dim = b3*n\n",
        "\n",
        "  # This is our input image\n",
        "  input_img = keras.Input(shape=(in_dim,))\n",
        "  # \"encoded\" is the encoded representation of the input\n",
        "  encoded = layers.Dense(encoding_dim, activation='relu')(input_img)\n",
        "  # \"decoded\" is the lossy reconstruction of the input\n",
        "  decoded = layers.Dense(in_dim, activation='sigmoid')(encoded)\n",
        "\n",
        "  # This model maps an input to its reconstruction\n",
        "  nn_AE = keras.Model(input_img, decoded)\n",
        "  sumarry = nn_AE.summary()\n",
        "  #keras.utils.plot_model(cnn_ae_model, \"cnn_ae_model.png\", show_shapes=True)\n",
        "  return nn_AE ,keras.utils.plot_model(nn_AE, \"m2_m3_nn_model1.png\", show_shapes=True),summary"
      ],
      "metadata": {
        "id": "5uou9oKTLWkP"
      },
      "id": "5uou9oKTLWkP",
      "execution_count": 14,
      "outputs": []
    },
    {
      "cell_type": "markdown",
      "source": [
        "## Model Compile and Training FM"
      ],
      "metadata": {
        "id": "GIoNNUU4ioxU"
      },
      "id": "GIoNNUU4ioxU"
    },
    {
      "cell_type": "code",
      "source": [
        "def cnn_modelTrain(train,e):\n",
        "# TS_HN is input data in numpy formate\n",
        "# e = no. of epochs\n",
        "# Validation happens automaticically using 20% of training data as validation data.\n",
        "#cnn_ae_model.compile(optimizer='adam',loss='binary_crossentropy')\n",
        "  cnn_ae_model.compile(optimizer='adam',loss=tf.keras.losses.MeanSquaredError(),metrics=['cosine_similarity'])\n",
        "  history_2dcnnae = cnn_ae_model.fit(train,train,\n",
        "                    epochs = e,\n",
        "                    shuffle=True,\n",
        "                    verbose=1,\n",
        "                    validation_split = 0.2,\n",
        "                    )\n",
        "  return history_2dcnnae"
      ],
      "metadata": {
        "id": "tyfNdVUSnSX2"
      },
      "id": "tyfNdVUSnSX2",
      "execution_count": 15,
      "outputs": []
    },
    {
      "cell_type": "code",
      "source": [
        "def m3_nn_model1_Train(train,e):\n",
        "  # TS_HN is input data in numpy formate\n",
        "  # e = no. of epochs\n",
        "  # Validation happens automaticically using 20% of training data as validation data.\n",
        "  #cnn_ae_model.compile(optimizer='adam',loss='binary_crossentropy')\n",
        "  train = train.reshape(train.shape[0],train.shape[1]*train.shape[2])\n",
        "  m3_nn_model1.compile(optimizer='adam',loss=tf.keras.losses.MeanSquaredError(),metrics=['cosine_similarity'])\n",
        "  history_2dcnnae = m3_nn_model1.fit(train,train,\n",
        "                    epochs = e,\n",
        "                    shuffle=True,\n",
        "                    verbose=1,\n",
        "                    validation_split = 0.2,\n",
        "                    )\n",
        "  return history_2dcnnae"
      ],
      "metadata": {
        "id": "xgIziVjsTp7Z"
      },
      "id": "xgIziVjsTp7Z",
      "execution_count": 16,
      "outputs": []
    },
    {
      "cell_type": "markdown",
      "source": [
        "# Output analysis"
      ],
      "metadata": {
        "id": "bgLSMYB8xv3-"
      },
      "id": "bgLSMYB8xv3-"
    },
    {
      "cell_type": "markdown",
      "source": [
        "## Image generation of snapshort"
      ],
      "metadata": {
        "id": "U2rW1ZO_x3Yv"
      },
      "id": "U2rW1ZO_x3Yv"
    },
    {
      "cell_type": "code",
      "source": [
        "def img_gen(train,img):\n",
        "  # Image generation for training set:\n",
        "  plt.figure(figsize=(10, 4))\n",
        "  for i in range(1, img + 1):\n",
        "      # Display original\n",
        "      ax = plt.subplot(2, img, i)\n",
        "      plt.imshow(train[i])\n",
        "      #plt.gray()\n",
        "      ax.get_xaxis().set_visible(False)\n",
        "      ax.get_yaxis().set_visible(False)\n",
        "  plt.show()"
      ],
      "metadata": {
        "id": "nIM5kbthx7Ti"
      },
      "id": "nIM5kbthx7Ti",
      "execution_count": 17,
      "outputs": []
    },
    {
      "cell_type": "markdown",
      "source": [
        "# Prediction from Model for outlier"
      ],
      "metadata": {
        "id": "OakN-hUYivXv"
      },
      "id": "OakN-hUYivXv"
    },
    {
      "cell_type": "code",
      "source": [
        "def outlierPredict(inliear,outlier,model):\n",
        "  # predict the oulier\n",
        "  inlier_lst = []\n",
        "  y_pred = model.predict(inliear) \n",
        "  for i in range(len(inliear)):\n",
        "    y_true = inliear[i]\n",
        "    mse = tf.keras.losses.MeanSquaredError()\n",
        "    #print(mse(y_true, y_pred).numpy())\n",
        "    inlier_lst.append(mse(y_true, y_pred[i]).numpy())\n",
        "  #print(inlier_lst)\n",
        "  oulier_lst = []\n",
        "  y_pred = model.predict(outlier)\n",
        "  for i in range(len(outlier)):\n",
        "    y_true = outlier[i]\n",
        "    mse = tf.keras.losses.MeanSquaredError()\n",
        "    #print(mse(y_true, y_pred).numpy())\n",
        "    oulier_lst.append(mse(y_true, y_pred[i]).numpy())\n",
        "  #print(oulier_lst)\n",
        "  Ubound = max(inlier_lst)\n",
        "  Lbound = min(inlier_lst)\n",
        "  print(\"Inlear Upper bound:\",Ubound)\n",
        "  print(\"Inlear Lower bound:\",Lbound)\n",
        "  print(\"Outlier Upper bound:\",max(oulier_lst))\n",
        "  print(\"Outlier Lower bound:\",min(oulier_lst))\n",
        "  det_list = []\n",
        "  len(oulier_lst)\n",
        "  for i in range(len(oulier_lst)):\n",
        "    det_dict = {}\n",
        "    if (oulier_lst[i] > Lbound) & (oulier_lst[i] < Ubound):\n",
        "      det_dict['snp_no'] = i\n",
        "      det_dict['lable'] = 'Inliear'\n",
        "    else:\n",
        "      det_dict['snp_no'] = i\n",
        "      det_dict['lable'] = 'Outlier'\n",
        "    #print(det_list)\n",
        "    det_list.append(det_dict)\n",
        "  #print(det_list)\n",
        "  co =0\n",
        "  for i in det_list:\n",
        "    if i['lable'] == 'Outlier':\n",
        "      co+=1\n",
        "  print(\"No. of correctly identified outlier:\",co)\n",
        "  #return det_list"
      ],
      "metadata": {
        "id": "rezCwsXJHxX2"
      },
      "id": "rezCwsXJHxX2",
      "execution_count": 18,
      "outputs": []
    },
    {
      "cell_type": "markdown",
      "source": [
        "# Main python body"
      ],
      "metadata": {
        "id": "mzbwWQ-9PmVD"
      },
      "id": "mzbwWQ-9PmVD"
    },
    {
      "cell_type": "markdown",
      "source": [
        "## Heat dissipation failure machine failure analysis"
      ],
      "metadata": {
        "id": "icVK-Ccs1mGe"
      },
      "id": "icVK-Ccs1mGe"
    },
    {
      "cell_type": "code",
      "source": [
        "b1 = 10 # 1st stage window size of enrichment\n",
        "b2 = 4  # 2nd Stage window size of enrichment\n",
        "b3 =16\n",
        "n = 1\n",
        "e = 50 # no. of epochs\n",
        "# Load Raw TS data\n",
        "rawTS, mfList = rawDataload_HDF()\n",
        "rawTS['diff'] = rawTS['airTemp'] - rawTS['processTemp']\n",
        "rawTS['diff'] = rawTS['diff'].abs()\n",
        "rawTS.drop(['airTemp','processTemp'], axis = 1, inplace = True)\n",
        "rawTS.head()\n",
        "# Controled dataset for calculation check:\n",
        "# slice the data based on failure point\n",
        "sliceAt = 6 # No. of top failure points needs to include\n",
        "mfList_c = mfList[:sliceAt]\n",
        "rawTS_c = rawTS[0:mfList_c[-1]+1]\n",
        "#Convert Raw TS in Inlier and outlier as per window size\n",
        "x_train,y_train,x_test,y_test = TrainTestData_HDF(b1,rawTS,mfList)\n",
        "# Check for max possible window size\n",
        "maxWin = maxPossibleWin(mfList)\n",
        "#Enrich the TS data\n",
        "X_Inliear = main_fm(b1,b2,b3,n,x_train)\n",
        "X_outlier = main_fm(b1,b2,b3,n,x_test)\n",
        "# Normalize Inliear ( Do not use now as outlier normalization shoud be based on Inlier min-Max value)\n",
        "#x_trainN, x_testN = normalizeData(X_Inliear,X_outlier,b3,n)\n",
        "x_trainN, x_testN = GlobalnormalizeData(X_Inliear,X_outlier,b3,n)\n",
        "# Since loss function is not converging, so need to trace the issue:We will check the Input and output values for model\n",
        "# create single record training set\n",
        "#x_trainN_1 = x_trainN[1].reshape(1,16,1) # training set with single record\n",
        "#x_trainN_10 = x_trainN[1:10] # training set with single record\n",
        "# Model generation and training:\n",
        "cnn1_model_1,k1,h1 = m4_2dcnnae_single_conv(b3,n,X_Inliear,e)\n",
        "y_pred = cnn1_model_1.predict(X_outlier)\n",
        "print(\"y_true.shape\",X_outlier.shape)\n",
        "print(\"y_predict.shape\",y_pred.shape)\n",
        "\n",
        "\n",
        "# img_gen(x_trainN,10)\n",
        "# img_gen(x_testN,10)"
      ],
      "metadata": {
        "id": "ZSR96-6a1xCM",
        "outputId": "0a8bb594-ef0f-444e-a875-14763fc69f2b",
        "colab": {
          "base_uri": "https://localhost:8080/"
        }
      },
      "id": "ZSR96-6a1xCM",
      "execution_count": 19,
      "outputs": [
        {
          "output_type": "stream",
          "name": "stdout",
          "text": [
            "Epoch 1/50\n",
            "24/24 [==============================] - 2s 19ms/step - loss: 401.8080 - mean_squared_error: 401.7509 - val_loss: 347.4830 - val_mean_squared_error: 347.4261\n",
            "Epoch 2/50\n",
            "24/24 [==============================] - 0s 5ms/step - loss: 210.9205 - mean_squared_error: 210.8638 - val_loss: 172.2114 - val_mean_squared_error: 172.1549\n",
            "Epoch 3/50\n",
            "24/24 [==============================] - 0s 5ms/step - loss: 101.8167 - mean_squared_error: 101.7602 - val_loss: 81.8659 - val_mean_squared_error: 81.8095\n",
            "Epoch 4/50\n",
            "24/24 [==============================] - 0s 7ms/step - loss: 50.4704 - mean_squared_error: 50.4140 - val_loss: 45.2583 - val_mean_squared_error: 45.2019\n",
            "Epoch 5/50\n",
            "24/24 [==============================] - 0s 11ms/step - loss: 31.6666 - mean_squared_error: 31.6102 - val_loss: 33.7219 - val_mean_squared_error: 33.6655\n",
            "Epoch 6/50\n",
            "24/24 [==============================] - 0s 8ms/step - loss: 26.0813 - mean_squared_error: 26.0249 - val_loss: 30.2114 - val_mean_squared_error: 30.1549\n",
            "Epoch 7/50\n",
            "24/24 [==============================] - 0s 5ms/step - loss: 24.0440 - mean_squared_error: 23.9874 - val_loss: 28.3281 - val_mean_squared_error: 28.2715\n",
            "Epoch 8/50\n",
            "24/24 [==============================] - 0s 5ms/step - loss: 22.6323 - mean_squared_error: 22.5756 - val_loss: 26.6970 - val_mean_squared_error: 26.6403\n",
            "Epoch 9/50\n",
            "24/24 [==============================] - 0s 7ms/step - loss: 21.3361 - mean_squared_error: 21.2793 - val_loss: 25.1691 - val_mean_squared_error: 25.1123\n",
            "Epoch 10/50\n",
            "24/24 [==============================] - 0s 10ms/step - loss: 20.1099 - mean_squared_error: 20.0530 - val_loss: 23.7205 - val_mean_squared_error: 23.6635\n",
            "Epoch 11/50\n",
            "24/24 [==============================] - 0s 6ms/step - loss: 18.9462 - mean_squared_error: 18.8892 - val_loss: 22.3428 - val_mean_squared_error: 22.2858\n",
            "Epoch 12/50\n",
            "24/24 [==============================] - 0s 11ms/step - loss: 17.8422 - mean_squared_error: 17.7850 - val_loss: 21.0376 - val_mean_squared_error: 20.9805\n",
            "Epoch 13/50\n",
            "24/24 [==============================] - 0s 9ms/step - loss: 16.7961 - mean_squared_error: 16.7389 - val_loss: 19.7997 - val_mean_squared_error: 19.7424\n",
            "Epoch 14/50\n",
            "24/24 [==============================] - 0s 8ms/step - loss: 15.8021 - mean_squared_error: 15.7448 - val_loss: 18.6234 - val_mean_squared_error: 18.5660\n",
            "Epoch 15/50\n",
            "24/24 [==============================] - 0s 8ms/step - loss: 14.8585 - mean_squared_error: 14.8010 - val_loss: 17.5055 - val_mean_squared_error: 17.4481\n",
            "Epoch 16/50\n",
            "24/24 [==============================] - 0s 7ms/step - loss: 13.9605 - mean_squared_error: 13.9030 - val_loss: 16.4436 - val_mean_squared_error: 16.3860\n",
            "Epoch 17/50\n",
            "24/24 [==============================] - 0s 6ms/step - loss: 13.1071 - mean_squared_error: 13.0495 - val_loss: 15.4306 - val_mean_squared_error: 15.3729\n",
            "Epoch 18/50\n",
            "24/24 [==============================] - 0s 6ms/step - loss: 12.2946 - mean_squared_error: 12.2369 - val_loss: 14.4665 - val_mean_squared_error: 14.4087\n",
            "Epoch 19/50\n",
            "24/24 [==============================] - 0s 8ms/step - loss: 11.5191 - mean_squared_error: 11.4612 - val_loss: 13.5486 - val_mean_squared_error: 13.4908\n",
            "Epoch 20/50\n",
            "24/24 [==============================] - 0s 6ms/step - loss: 10.7818 - mean_squared_error: 10.7239 - val_loss: 12.6696 - val_mean_squared_error: 12.6116\n",
            "Epoch 21/50\n",
            "24/24 [==============================] - 0s 6ms/step - loss: 10.0795 - mean_squared_error: 10.0215 - val_loss: 11.8389 - val_mean_squared_error: 11.7808\n",
            "Epoch 22/50\n",
            "24/24 [==============================] - 0s 5ms/step - loss: 9.4108 - mean_squared_error: 9.3527 - val_loss: 11.0462 - val_mean_squared_error: 10.9881\n",
            "Epoch 23/50\n",
            "24/24 [==============================] - 0s 5ms/step - loss: 8.7752 - mean_squared_error: 8.7170 - val_loss: 10.2907 - val_mean_squared_error: 10.2324\n",
            "Epoch 24/50\n",
            "24/24 [==============================] - 0s 7ms/step - loss: 8.1687 - mean_squared_error: 8.1105 - val_loss: 9.5720 - val_mean_squared_error: 9.5137\n",
            "Epoch 25/50\n",
            "24/24 [==============================] - 0s 5ms/step - loss: 7.5932 - mean_squared_error: 7.5348 - val_loss: 8.8946 - val_mean_squared_error: 8.8362\n",
            "Epoch 26/50\n",
            "24/24 [==============================] - 0s 6ms/step - loss: 7.0507 - mean_squared_error: 6.9922 - val_loss: 8.2509 - val_mean_squared_error: 8.1924\n",
            "Epoch 27/50\n",
            "24/24 [==============================] - 0s 7ms/step - loss: 6.5366 - mean_squared_error: 6.4781 - val_loss: 7.6403 - val_mean_squared_error: 7.5817\n",
            "Epoch 28/50\n",
            "24/24 [==============================] - 0s 8ms/step - loss: 6.0491 - mean_squared_error: 5.9904 - val_loss: 7.0662 - val_mean_squared_error: 7.0075\n",
            "Epoch 29/50\n",
            "24/24 [==============================] - 0s 6ms/step - loss: 5.5902 - mean_squared_error: 5.5315 - val_loss: 6.5203 - val_mean_squared_error: 6.4615\n",
            "Epoch 30/50\n",
            "24/24 [==============================] - 0s 5ms/step - loss: 5.1564 - mean_squared_error: 5.0976 - val_loss: 6.0102 - val_mean_squared_error: 5.9514\n",
            "Epoch 31/50\n",
            "24/24 [==============================] - 0s 3ms/step - loss: 4.7502 - mean_squared_error: 4.6913 - val_loss: 5.5315 - val_mean_squared_error: 5.4726\n",
            "Epoch 32/50\n",
            "24/24 [==============================] - 0s 3ms/step - loss: 4.3691 - mean_squared_error: 4.3101 - val_loss: 5.0823 - val_mean_squared_error: 5.0233\n",
            "Epoch 33/50\n",
            "24/24 [==============================] - 0s 3ms/step - loss: 4.0112 - mean_squared_error: 3.9522 - val_loss: 4.6600 - val_mean_squared_error: 4.6009\n",
            "Epoch 34/50\n",
            "24/24 [==============================] - 0s 4ms/step - loss: 3.6768 - mean_squared_error: 3.6177 - val_loss: 4.2675 - val_mean_squared_error: 4.2083\n",
            "Epoch 35/50\n",
            "24/24 [==============================] - 0s 4ms/step - loss: 3.3654 - mean_squared_error: 3.3062 - val_loss: 3.9020 - val_mean_squared_error: 3.8427\n",
            "Epoch 36/50\n",
            "24/24 [==============================] - 0s 3ms/step - loss: 3.0760 - mean_squared_error: 3.0167 - val_loss: 3.5609 - val_mean_squared_error: 3.5015\n",
            "Epoch 37/50\n",
            "24/24 [==============================] - 0s 4ms/step - loss: 2.8068 - mean_squared_error: 2.7475 - val_loss: 3.2455 - val_mean_squared_error: 3.1861\n",
            "Epoch 38/50\n",
            "24/24 [==============================] - 0s 4ms/step - loss: 2.5570 - mean_squared_error: 2.4976 - val_loss: 2.9541 - val_mean_squared_error: 2.8946\n",
            "Epoch 39/50\n",
            "24/24 [==============================] - 0s 4ms/step - loss: 2.3261 - mean_squared_error: 2.2666 - val_loss: 2.6832 - val_mean_squared_error: 2.6236\n",
            "Epoch 40/50\n",
            "24/24 [==============================] - 0s 3ms/step - loss: 2.1132 - mean_squared_error: 2.0536 - val_loss: 2.4341 - val_mean_squared_error: 2.3745\n",
            "Epoch 41/50\n",
            "24/24 [==============================] - 0s 4ms/step - loss: 1.9164 - mean_squared_error: 1.8567 - val_loss: 2.2044 - val_mean_squared_error: 2.1447\n",
            "Epoch 42/50\n",
            "24/24 [==============================] - 0s 3ms/step - loss: 1.7359 - mean_squared_error: 1.6761 - val_loss: 1.9941 - val_mean_squared_error: 1.9343\n",
            "Epoch 43/50\n",
            "24/24 [==============================] - 0s 4ms/step - loss: 1.5704 - mean_squared_error: 1.5106 - val_loss: 1.8010 - val_mean_squared_error: 1.7412\n",
            "Epoch 44/50\n",
            "24/24 [==============================] - 0s 4ms/step - loss: 1.4190 - mean_squared_error: 1.3591 - val_loss: 1.6250 - val_mean_squared_error: 1.5650\n",
            "Epoch 45/50\n",
            "24/24 [==============================] - 0s 3ms/step - loss: 1.2810 - mean_squared_error: 1.2210 - val_loss: 1.4642 - val_mean_squared_error: 1.4042\n",
            "Epoch 46/50\n",
            "24/24 [==============================] - 0s 4ms/step - loss: 1.1547 - mean_squared_error: 1.0946 - val_loss: 1.3170 - val_mean_squared_error: 1.2569\n",
            "Epoch 47/50\n",
            "24/24 [==============================] - 0s 3ms/step - loss: 1.0397 - mean_squared_error: 0.9795 - val_loss: 1.1836 - val_mean_squared_error: 1.1234\n",
            "Epoch 48/50\n",
            "24/24 [==============================] - 0s 3ms/step - loss: 0.9355 - mean_squared_error: 0.8753 - val_loss: 1.0632 - val_mean_squared_error: 1.0030\n",
            "Epoch 49/50\n",
            "24/24 [==============================] - 0s 4ms/step - loss: 0.8412 - mean_squared_error: 0.7809 - val_loss: 0.9541 - val_mean_squared_error: 0.8938\n",
            "Epoch 50/50\n",
            "24/24 [==============================] - 0s 3ms/step - loss: 0.7560 - mean_squared_error: 0.6957 - val_loss: 0.8553 - val_mean_squared_error: 0.7949\n",
            "y_true.shape (113, 16, 1)\n",
            "y_predict.shape (113, 16, 1, 1)\n"
          ]
        }
      ]
    },
    {
      "cell_type": "markdown",
      "source": [
        "### Effect of data enrichment "
      ],
      "metadata": {
        "id": "b6X-7OHKTW0m"
      },
      "id": "b6X-7OHKTW0m"
    },
    {
      "cell_type": "code",
      "source": [
        "# Inlear data ranges\n",
        "import numpy as np\n",
        "import matplotlib.pyplot as plt\n",
        "# plotting\n",
        "plt.figure(figsize=(30,10))\n",
        "plt.title(\"Inlear Vs Outlier range comparision\")\n",
        "plt.xlabel(\"X axis\")\n",
        "plt.ylabel(\"Charesteristic value\")\n",
        "inler = X_Inliear.reshape(931,16)\n",
        "Inlear_min = np.amin(inler,axis = 0)\n",
        "plt.plot(Inlear_min, color =\"green\")\n",
        "Inlear_max = np.amax(inler,axis = 0)\n",
        "plt.plot(Inlear_max, color =\"red\")\n",
        "print(\"inlear min values\",Inlear_min)\n",
        "print(\"inlear max values\",Inlear_max)\n",
        "#Outlier data ranges\n",
        "outler = X_outlier.reshape(113,16)\n",
        "Outler_min = np.amin(outler,axis = 0)\n",
        "plt.plot(Outler_min, color =\"blue\")\n",
        "Outler_max = np.amax(outler,axis = 0)\n",
        "plt.plot(Outler_max, color =\"orange\")\n",
        "print(\"Outlier min values\",Outler_min)\n",
        "print(\"Outlier max values\",Outler_max)\n",
        "# importing the library\n",
        "plt.show()\n"
      ],
      "metadata": {
        "colab": {
          "base_uri": "https://localhost:8080/",
          "height": 760
        },
        "id": "RqabFc3ZtOG4",
        "outputId": "32dddbdb-d609-4882-b26d-323c2a12cbd2"
      },
      "id": "RqabFc3ZtOG4",
      "execution_count": 23,
      "outputs": [
        {
          "output_type": "stream",
          "name": "stdout",
          "text": [
            "inlear min values [24.866 24.603 25.431 24.627 24.714 24.953  0.     0.    -0.554 -1.002\n",
            " -0.379 -0.947 -0.592 -0.379  0.031  0.014]\n",
            "inlear max values [37.892 37.79  37.98  37.813 37.9   37.979  2.142  0.818  0.664  0.409\n",
            "  0.948  0.488  0.65   0.826  1.541  0.651]\n",
            "Outlier min values [24.287 24.16  24.478 24.161 24.256 24.382  0.031  0.014 -0.467 -0.638\n",
            " -0.127 -0.606 -0.552 -0.413  0.031  0.016]\n",
            "Outlier max values [27.513 27.418 27.671 27.442 27.482 27.553  1.545  0.576  0.364  0.095\n",
            "  0.595  0.238  0.382  0.508  0.984  0.388]\n"
          ]
        },
        {
          "output_type": "display_data",
          "data": {
            "text/plain": [
              "<Figure size 2160x720 with 1 Axes>"
            ],
            "image/png": "[encoded data removed]"
          },
          "metadata": {
            "needs_background": "light"
          }
        }
      ]
    },
    {
      "cell_type": "markdown",
      "source": [
        "**We can see that outlier range is falling in between Inliear range, so diffrentiation through machine learning is not possible. This also shows that data enrichment technique used in this dataset is not suitable. So we need to check the variation on raw data for prediction**"
      ],
      "metadata": {
        "id": "0dJ8z0VT7Lei"
      },
      "id": "0dJ8z0VT7Lei"
    }
  ],
  "metadata": {
    "kernelspec": {
      "display_name": "Python 3 (ipykernel)",
      "language": "python",
      "name": "python3"
    },
    "language_info": {
      "codemirror_mode": {
        "name": "ipython",
        "version": 3
      },
      "file_extension": ".py",
      "mimetype": "text/x-python",
      "name": "python",
      "nbconvert_exporter": "python",
      "pygments_lexer": "ipython3",
      "version": "3.8.12"
    },
    "colab": {
      "name": " OutlierDetection_Feature_enrichment_analysis_v1.0.ipynb",
      "provenance": [],
      "collapsed_sections": [
        "e10e8d91",
        "fac342e3",
        "Rl0kKo92cUIB",
        "ZNQGmVcATbG9",
        "pJoikgM4T3Yy",
        "1UTqptZBKUN2",
        "kRcTD01HUTXL",
        "GIoNNUU4ioxU",
        "bgLSMYB8xv3-",
        "U2rW1ZO_x3Yv",
        "OakN-hUYivXv",
        "TWfX6RyQEyJS",
        "Zmu_pvivWRq6",
        "fuU5FswcYzif",
        "eRkxOi_-cI8Y",
        "n9J703gsfzeF",
        "Q4DX4hIViAWW",
        "iyFS_q0ZSCHq",
        "68dc6b4b",
        "a66ce57d",
        "cf451cb3"
      ],
      "toc_visible": true,
      "include_colab_link": true
    }
  },
  "nbformat": 4,
  "nbformat_minor": 5
}